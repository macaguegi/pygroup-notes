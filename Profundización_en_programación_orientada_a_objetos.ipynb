{
  "nbformat": 4,
  "nbformat_minor": 0,
  "metadata": {
    "colab": {
      "name": "Profundización en programación orientada a objetos",
      "version": "0.3.2",
      "provenance": [],
      "collapsed_sections": [],
      "include_colab_link": true
    },
    "kernelspec": {
      "name": "python3",
      "display_name": "Python 3"
    }
  },
  "cells": [
    {
      "cell_type": "markdown",
      "metadata": {
        "id": "view-in-github",
        "colab_type": "text"
      },
      "source": [
        "<a href=\"https://colab.research.google.com/github/macaguegi/pygroup-notes/blob/master/Profundizaci%C3%B3n_en_programaci%C3%B3n_orientada_a_objetos.ipynb\" target=\"_parent\"><img src=\"https://colab.research.google.com/assets/colab-badge.svg\" alt=\"Open In Colab\"/></a>"
      ]
    },
    {
      "cell_type": "markdown",
      "metadata": {
        "id": "9w2-V4uUza90",
        "colab_type": "text"
      },
      "source": [
        "#Profundización, programación orientada a objetos\n",
        "---\n",
        "La **mente humana** usa patrones o modelos para facilitar la comprensión del mundo **real**, uno complejo y lleno de sistemas, elementos y relaciones. Así, estos patrones abstraen aquellas características de un elemento o situación necesarias para su comprensión ignorando los detalles que resultan irrelevantes. De la misma forma, la historia de la programación refleja una evolución en donde se facilita el manejo de elementos complejos a través de capas de abstracción que agrupan detalles de implementación usualmente innecesaria.\n"
      ]
    },
    {
      "cell_type": "markdown",
      "metadata": {
        "id": "sOwmvP8Nzhu3",
        "colab_type": "text"
      },
      "source": [
        "##Desde la programación estructurada clásica\n",
        "---\n",
        "La visión de la programación estructurada clásica es la del seguimiento de un conjunto de instrucciones de manera secuencial, ejecutando una a una de manera ordenada desde un punto inicial hasta un punto final. Es por ello que una de sus representaciones es el diagrama de flujo, en el cual el seguimiento del programa se hace siguiendo el flujo del algoritmo. Esta visión hacía la programación sencilla de aprender e implementar, pero acarreaba una serie de inconvenientes como se plantea a continuación. Vamos a hacer un programa clasificatorio por edad. Iniciamos definiendo una estructura básica."
      ]
    },
    {
      "cell_type": "code",
      "metadata": {
        "id": "RyTBlStsL90R",
        "colab_type": "code",
        "outputId": "a1c41fe1-cd39-4e92-adbc-3d55f797adf0",
        "colab": {
          "base_uri": "https://localhost:8080/",
          "height": 68
        }
      },
      "source": [
        "#Programa para la clasificación de edad\n",
        "nombre = input(\"Ingrese el nombre completo de la persona a clasificar \")\n",
        "edad =int(input(\"Ingrese la edad \"))\n",
        "if(edad<18):\n",
        "  print(f\"La persona {nombre} es menor de edad\")\n",
        "else:\n",
        "  print(f\"La persona {nombre} es mayor de edad\")"
      ],
      "execution_count": 0,
      "outputs": [
        {
          "output_type": "stream",
          "text": [
            "Ingrese el nombre completo de la persona a clasificar Mosh\n",
            "Ingrese la edad 15\n",
            "La persona Mosh es menor de edad\n"
          ],
          "name": "stdout"
        }
      ]
    },
    {
      "cell_type": "markdown",
      "metadata": {
        "id": "4huj4FphN83N",
        "colab_type": "text"
      },
      "source": [
        "El flujo del algoritmo es sencillo. Sin embargo, que pasaría si tuviera que clasificar más de una persona. Probablemente tendría que hacer algo así:"
      ]
    },
    {
      "cell_type": "code",
      "metadata": {
        "id": "4H8Q0M_SOK7l",
        "colab_type": "code",
        "outputId": "c36641dc-4e7f-42e3-8415-2417c118ab3f",
        "colab": {
          "base_uri": "https://localhost:8080/",
          "height": 170
        }
      },
      "source": [
        "nombre1 = input(\"Ingrese el nombre completo de la persona a clasificar \")\n",
        "edad1 =int(input(\"Ingrese la edad \"))\n",
        "if(edad1<18):\n",
        "  print(f\"La persona {nombre1} es menor de edad\")\n",
        "else:\n",
        "  print(f\"La persona {nombre1} es mayor de edad\")\n",
        "nombre2 = input(\"Ingrese el nombre completo de la persona a clasificar \")\n",
        "edad2 =int(input(\"Ingrese la edad \"))\n",
        "if(edad2<18):\n",
        "  print(f\"La persona {nombre2} es menor de edad\")\n",
        "else:\n",
        "  print(f\"La persona {nombre2} es mayor de edad\")\n",
        "nombre3 = input(\"Ingrese el nombre completo de la persona a clasificar \")\n",
        "edad3 =int(input(\"Ingrese la edad \"))\n",
        "if(edad3<18):\n",
        "  print(f\"La persona {nombre3} es menor de edad\")\n",
        "else:\n",
        "  print(f\"La persona {nombre3} es mayor de edad\")"
      ],
      "execution_count": 0,
      "outputs": [
        {
          "output_type": "stream",
          "text": [
            "Ingrese el nombre completo de la persona a clasificar Juan\n",
            "Ingrese la edad 13\n",
            "La persona Juan es menor de edad\n",
            "Ingrese el nombre completo de la persona a clasificar Jacobo\n",
            "Ingrese la edad 45\n",
            "La persona Jacobo es mayor de edad\n",
            "Ingrese el nombre completo de la persona a clasificar María\n",
            "Ingrese la edad 80\n",
            "La persona María es mayor de edad\n"
          ],
          "name": "stdout"
        }
      ]
    },
    {
      "cell_type": "markdown",
      "metadata": {
        "id": "gTZfKxYfObz0",
        "colab_type": "text"
      },
      "source": [
        "Y dirás, bien, ya lo tengo para tres personas. Pero no podía ser tan sencillo, te pidieron que sea para un número de personas que es predefinido, pero es mayor que 3. Entonces te encuentras con la herramienta de ciclos y la implementas de forma asombrosa utilizando la misma estructura que ya habías creado."
      ]
    },
    {
      "cell_type": "code",
      "metadata": {
        "id": "cpAX0OruO-e9",
        "colab_type": "code",
        "outputId": "11031bda-42be-4169-c1d3-003cfddf61e5",
        "colab": {
          "base_uri": "https://localhost:8080/",
          "height": 238
        }
      },
      "source": [
        "personas = int(input(\"Ingrese el número de personas a clasificar \"))\n",
        "for i in range(personas):\n",
        "  nombre = input(\"Ingrese el nombre completo de la persona a clasificar \")\n",
        "  edad =int(input(\"Ingrese la edad \"))\n",
        "  if(edad<18):\n",
        "    print(f\"La persona {nombre} es menor de edad\")\n",
        "  else:\n",
        "    print(f\"La persona {nombre} es mayor de edad\")"
      ],
      "execution_count": 0,
      "outputs": [
        {
          "output_type": "stream",
          "text": [
            "Ingrese el número de personas a clasificar 4\n",
            "Ingrese el nombre completo de la persona a clasificar Kike\n",
            "Ingrese la edad 13\n",
            "La persona Kike es menor de edad\n",
            "Ingrese el nombre completo de la persona a clasificar Laura\n",
            "Ingrese la edad 20\n",
            "La persona Laura es mayor de edad\n",
            "Ingrese el nombre completo de la persona a clasificar Mile\n",
            "Ingrese la edad 19\n",
            "La persona Mile es mayor de edad\n",
            "Ingrese el nombre completo de la persona a clasificar Andres\n",
            "Ingrese la edad 2\n",
            "La persona Andres es menor de edad\n"
          ],
          "name": "stdout"
        }
      ]
    },
    {
      "cell_type": "markdown",
      "metadata": {
        "id": "pltgNLMTPr2i",
        "colab_type": "text"
      },
      "source": [
        "Perfecto. Desde la visión clásica de programación estructural todos los problemas se pueden afrontar utilizando un flujo ordenado, condicionales y ciclos. Pero conforme fue creciendo la complejidad de los problemas, fue creciendo el tamaño de los programas. Unos de los asepectos que se deseaba era la reutilización de **funcionalidad** de bloques de código, y allí nación la programación estructurada moderna."
      ]
    },
    {
      "cell_type": "markdown",
      "metadata": {
        "id": "yxWKX7cyznPd",
        "colab_type": "text"
      },
      "source": [
        "##Con respecto a la programación estructurada moderna\n",
        "---\n",
        "El nacimiento de este paradigma es con el concepto de **función**. Una función no es más que un bloque de código asociado a un nombre que posteriormente se puede llamar en cualquier momento. Retomando el ejemplo anterior, los requerimientos cambiaron, y ahora nos solicitan un programa que me clasifique las personas con respecto a su edad y que, en caso de que las personas sean mayores de edad, solicite número de horas trabajadas y salario para calcular el total a pagar."
      ]
    },
    {
      "cell_type": "code",
      "metadata": {
        "id": "NAATC1TFR0Rj",
        "colab_type": "code",
        "colab": {}
      },
      "source": [
        "def clasificarPersonas():\n",
        "  personas = int(input(\"Ingrese el número de personas a clasificar \"))\n",
        "  for i in range(personas):\n",
        "  nombre = input(\"Ingrese el nombre completo de la persona a clasificar \")\n",
        "  edad =int(input(\"Ingrese la edad \"))\n",
        "  if(edad<18):\n",
        "    print(f\"La persona {nombre} es menor de edad\")\n",
        "  else:\n",
        "    print(f\"La persona {nombre} es mayor de edad\")\n",
        "    \n",
        "def calcularSalario(basico, horas):\n",
        "  return basico*horas\n",
        "\n",
        "\n"
      ],
      "execution_count": 0,
      "outputs": []
    },
    {
      "cell_type": "markdown",
      "metadata": {
        "id": "fidinUP_zrcs",
        "colab_type": "text"
      },
      "source": [
        "##Los pilares de la programación orientada a objetos\n",
        "---"
      ]
    },
    {
      "cell_type": "markdown",
      "metadata": {
        "id": "Glz2l1zdSoHf",
        "colab_type": "text"
      },
      "source": [
        "## Ejemplos "
      ]
    },
    {
      "cell_type": "markdown",
      "metadata": {
        "id": "2M1hR_D5ToYU",
        "colab_type": "text"
      },
      "source": [
        "### 1) Superheroes"
      ]
    },
    {
      "cell_type": "markdown",
      "metadata": {
        "id": "qSjVmnmLTChi",
        "colab_type": "text"
      },
      "source": [
        "<center><img src=\"https://movieushermexico.files.wordpress.com/2014/10/bn-cl822_justic_g_20140421184947.jpg\" alt=\"Italian Trulli\"><center>"
      ]
    },
    {
      "cell_type": "markdown",
      "metadata": {
        "id": "noLfjISWWky1",
        "colab_type": "text"
      },
      "source": [
        "Todos los superheroes tienen algunas características en común , algunas de estas son :\n",
        "\n",
        "\n",
        "1.   Nombre : *La mujer maravilla, Superman , Ironman, Viuda Negra , Capitan America*\n",
        "2.   Fuerza : *Puede ser un valor entre 1 y 3 . Donde 3 es super fuerza y 1 es fuerza normal*\n",
        "3.   Poder : *Volar, Alta velocidad , Telaraña*\n",
        "4.   Traje : *Negro, De metal, Azul*\n",
        "5.   Identidad Secreta : *Tony Stark , Peter Parker, Clark Ken*\n",
        "6.   Puntos : *Puede ser un valor entre 0 y 500 puntos*\n",
        "7.   Salud : *Puede ser un valor entre 0 y 100*\n",
        "\n"
      ]
    },
    {
      "cell_type": "code",
      "metadata": {
        "id": "AUcBH7e4TUej",
        "colab_type": "code",
        "colab": {}
      },
      "source": [
        "class Superheroe:\n",
        "    def __init__(self, nombre, fuerza, poder, traje, identidad_secreta,\n",
        "                 puntos, salud):\n",
        "        self.nombre = nombre\n",
        "        self.fuerza = fuerza\n",
        "        self.poder = poder\n",
        "        self.traje = traje\n",
        "        self.identidad_secreta = identidad_secreta\n",
        "        self.puntos = puntos \n",
        "        self.salud = salud"
      ],
      "execution_count": 0,
      "outputs": []
    },
    {
      "cell_type": "markdown",
      "metadata": {
        "id": "MMtAuyNybGp8",
        "colab_type": "text"
      },
      "source": [
        "El programador puede definir métodos asociados con la clase. Para la clase de superhéroes, definamos es_atacado, sanar y  ganar_puntos\n",
        "\n",
        "**es_atacado** será llamado cuando un héroe sea atacado, y por lo tanto, pierde salud\n",
        "\n",
        "**sanar** restaurará la salud de un héroe en cierta cantidad.\n",
        "\n",
        "**ganar_puntos** aumentará la cantidad de puntos que tiene un héroe.\n"
      ]
    },
    {
      "cell_type": "code",
      "metadata": {
        "id": "rvXH1uHJZgyb",
        "colab_type": "code",
        "colab": {}
      },
      "source": [
        "class Superheroe:\n",
        "    def __init__(self, nombre, fuerza, poder, traje, identidad_secreta,\n",
        "                 puntos, salud):\n",
        "        self.nombre = nombre\n",
        "        self.fuerza = fuerza\n",
        "        self.poder = poder\n",
        "        self.traje = traje\n",
        "        self.identidad_secreta = identidad_secreta\n",
        "        self.puntos = puntos \n",
        "        self.salud = salud\n",
        "\n",
        "    def es_atacado(self):\n",
        "        self.salud -= 1\n",
        "        return self.salud\n",
        "\n",
        "    def sanar(self):\n",
        "        self.salud += 2\n",
        "        return self.salud\n",
        "\n",
        "    def ganar_puntos(self):\n",
        "        self.puntos += 1\n",
        "        return self.puntos"
      ],
      "execution_count": 0,
      "outputs": []
    },
    {
      "cell_type": "markdown",
      "metadata": {
        "id": "bcs5kLbXcPtE",
        "colab_type": "text"
      },
      "source": [
        "Ahora crearemos superheroes específicos gracias a la manera en que definimos la clase Superheroe"
      ]
    },
    {
      "cell_type": "code",
      "metadata": {
        "id": "tgxTSwKKbul4",
        "colab_type": "code",
        "colab": {}
      },
      "source": [
        "batman = Superheroe(\"Batman\",2,\"Pelear\", \"Negro\", \"Bruce Wayne\", 300, 100)"
      ],
      "execution_count": 0,
      "outputs": []
    },
    {
      "cell_type": "code",
      "metadata": {
        "id": "aJS5vN-rc4PR",
        "colab_type": "code",
        "colab": {}
      },
      "source": [
        "capitan_american = Superheroe(\"Capitan America\", 3, \"Super soldado\", \"Azul con rojo\" , \"Steve Rogers\", 500,100)"
      ],
      "execution_count": 0,
      "outputs": []
    },
    {
      "cell_type": "markdown",
      "metadata": {
        "id": "WmQoPoqic2fb",
        "colab_type": "text"
      },
      "source": [
        "Batman fue atacado por su enemigo El Guason"
      ]
    },
    {
      "cell_type": "code",
      "metadata": {
        "id": "yWKd25XJcnht",
        "colab_type": "code",
        "colab": {
          "base_uri": "https://localhost:8080/",
          "height": 34
        },
        "outputId": "9c73ca05-e684-4557-93b9-cb2edc362a2e"
      },
      "source": [
        "print(batman.es_atacado())"
      ],
      "execution_count": 9,
      "outputs": [
        {
          "output_type": "stream",
          "text": [
            "99\n"
          ],
          "name": "stdout"
        }
      ]
    },
    {
      "cell_type": "markdown",
      "metadata": {
        "id": "8t9CWMYJdVoj",
        "colab_type": "text"
      },
      "source": [
        "Sin embargo, se recupera y logra abatir al Guason ganando puntos"
      ]
    },
    {
      "cell_type": "code",
      "metadata": {
        "id": "udsbpwXAcu7k",
        "colab_type": "code",
        "colab": {
          "base_uri": "https://localhost:8080/",
          "height": 34
        },
        "outputId": "4f28e95c-37d5-45a6-da08-079aa9abee72"
      },
      "source": [
        "print(batman.ganar_puntos())"
      ],
      "execution_count": 10,
      "outputs": [
        {
          "output_type": "stream",
          "text": [
            "301\n"
          ],
          "name": "stdout"
        }
      ]
    },
    {
      "cell_type": "code",
      "metadata": {
        "id": "GgBbnMQidZ2o",
        "colab_type": "code",
        "colab": {}
      },
      "source": [
        ""
      ],
      "execution_count": 0,
      "outputs": []
    }
  ]
}