{
  "nbformat": 4,
  "nbformat_minor": 0,
  "metadata": {
    "colab": {
      "name": "Básicos e Indispensables en Python",
      "version": "0.3.2",
      "provenance": [],
      "include_colab_link": true
    },
    "kernelspec": {
      "name": "python3",
      "display_name": "Python 3"
    }
  },
  "cells": [
    {
      "cell_type": "markdown",
      "metadata": {
        "id": "view-in-github",
        "colab_type": "text"
      },
      "source": [
        "<a href=\"https://colab.research.google.com/github/macaguegi/pygroup-notes/blob/master/B%C3%A1sicos_de_Python.ipynb\" target=\"_parent\"><img src=\"https://colab.research.google.com/assets/colab-badge.svg\" alt=\"Open In Colab\"/></a>"
      ]
    },
    {
      "metadata": {
        "id": "H-AHLltN1xId",
        "colab_type": "text"
      },
      "cell_type": "markdown",
      "source": [
        " # INTRODUCCIÓN A LA PROGRAMACIÓN CON PYTHON\n",
        "\n",
        "---\n",
        "\n"
      ]
    },
    {
      "metadata": {
        "id": "WsjmO2LllnlQ",
        "colab_type": "text"
      },
      "cell_type": "markdown",
      "source": [
        "Si quieres seguir este tutorial y editarlo en un cuaderno solamente para ti, por favor sigue estas instrucciones.\n",
        "1. Ir a  _archivo_ en el menu ubicado en la esquina superior izquierda\n",
        "2. Click en _Guardar una copia en Drive_ \n",
        "3. Estas listo para usar tu propio cuaderno!"
      ]
    },
    {
      "metadata": {
        "id": "30nAHO_TlVju",
        "colab_type": "code",
        "colab": {}
      },
      "cell_type": "code",
      "source": [
        "# Este es un comentario\n",
        "# En una celda de código\n",
        "# Presiona Shift+Enter para ejecutar una celda\n",
        "# No va a pasar nada aquí , ya que solo es un comentario"
      ],
      "execution_count": 0,
      "outputs": []
    },
    {
      "metadata": {
        "id": "StICygtC28eq",
        "colab_type": "text"
      },
      "cell_type": "markdown",
      "source": [
        "## Hola Mundo\n",
        "\n",
        "Uno de los programas más básicos que siempre se escriben al iniciar en un lenguaje es llamado el  **Hola Mundo**\n",
        "\n",
        "1. Click en esta celda . La celda se subrayara \n",
        "1. Da click en el botón \"*texto en cursiva*+CODIGO \" ubicado en el menu superior . Esto creará una celda justo debajo de esta. \n",
        "\n",
        "1. En esta celda que acabas de crear , ingresa el siquiente código:\n",
        "\n",
        "> ```python\n",
        "> # Tu nombre\n",
        "> print( \"Hola mundo!\" )\n",
        "> ```\n",
        "\n",
        "4. Click en el botón de \"Play\" que está a la izquierda de la celda . La primera vez que ejecutes una celda en un cuaderno de Colab se demorará entre 10 y 20 segundos para terminar. Luego ejecutar celdas no se demorará tanto.\n",
        "    * opcional: atajo de teclado: `SHIFT+ENTER`\n",
        "    \n",
        "-----------"
      ]
    },
    {
      "metadata": {
        "id": "9gjzPjQWF0mm",
        "colab_type": "code",
        "outputId": "e1405ba1-2bf4-4d22-eac9-6e866bccbe56",
        "colab": {
          "base_uri": "https://localhost:8080/",
          "height": 35
        }
      },
      "cell_type": "code",
      "source": [
        "# Camila\n",
        "print('Hola Mundo!')"
      ],
      "execution_count": 2,
      "outputs": [
        {
          "output_type": "stream",
          "text": [
            "Hola Mundo!\n"
          ],
          "name": "stdout"
        }
      ]
    },
    {
      "metadata": {
        "id": "NCcCHHCzgSQX",
        "colab_type": "text"
      },
      "cell_type": "markdown",
      "source": [
        "### Nota\n",
        "\n",
        "En Python, cualquier cosa después del signo `#` no se ejecuta. Estos se denominan \"comentarios\". Las líneas que comienzan con `#` son ignoradas por el intérprete de Python y no juegan ningún papel en el programa de ordenador. Está ahí como una nota para los humanos que leen el código."
      ]
    },
    {
      "metadata": {
        "id": "rKsFqm9n524h",
        "colab_type": "text"
      },
      "cell_type": "markdown",
      "source": [
        "## Antes de empezar\n",
        "Un programa Python es una serie de expresiones y afirmaciones. No te preocupes por los detalles, pero a grandes rasgos:\n",
        "\n",
        "* Un **hecho** es como un **verbo**. Hace algo .\n",
        "* Una **expresión** es como un **sustantivo**. Es que es algo.\n",
        "\n",
        "El programa Python más simple es una sola expresión, y la expresión más simple es un número.\n",
        "\n",
        "Abre una celda de código, escriba un número y ejecute la celda.\n"
      ]
    },
    {
      "metadata": {
        "id": "0yMwk0ahnPi-",
        "colab_type": "code",
        "outputId": "0d5583f3-2261-4bfc-a79b-9ea0d598974c",
        "colab": {
          "base_uri": "https://localhost:8080/",
          "height": 35
        }
      },
      "cell_type": "code",
      "source": [
        "# Hecho\n",
        "49"
      ],
      "execution_count": 0,
      "outputs": [
        {
          "output_type": "execute_result",
          "data": {
            "text/plain": [
              "49"
            ]
          },
          "metadata": {
            "tags": []
          },
          "execution_count": 10
        }
      ]
    },
    {
      "metadata": {
        "id": "XFz48qheo0JJ",
        "colab_type": "code",
        "colab": {}
      },
      "cell_type": "code",
      "source": [
        "# Expresion\n",
        "a = 49"
      ],
      "execution_count": 0,
      "outputs": []
    },
    {
      "metadata": {
        "id": "8QUbJa3qo24H",
        "colab_type": "code",
        "outputId": "47a24c4c-0fff-4195-ddba-93b8917794f3",
        "colab": {
          "base_uri": "https://localhost:8080/",
          "height": 35
        }
      },
      "cell_type": "code",
      "source": [
        "print(a)"
      ],
      "execution_count": 0,
      "outputs": [
        {
          "output_type": "stream",
          "text": [
            "49\n"
          ],
          "name": "stdout"
        }
      ]
    },
    {
      "metadata": {
        "id": "uwCgBNig7afF",
        "colab_type": "text"
      },
      "cell_type": "markdown",
      "source": [
        "## Expresiones Literales"
      ]
    },
    {
      "metadata": {
        "id": "k1krSNz77d3e",
        "colab_type": "text"
      },
      "cell_type": "markdown",
      "source": [
        "Una expresión que expresa un único valor se llama **literal**. Un literal tiene un **tipo**. El literal anterior es un **número entero**.\n",
        "\n",
        "Python tiene varios tipos numéricos.\n",
        "\n",
        "Aquí hay un número en coma flotante:"
      ]
    },
    {
      "metadata": {
        "id": "UWdWsE8Do3Sr",
        "colab_type": "code",
        "outputId": "6aa96c3c-8b80-4e57-ca57-9632088e8945",
        "colab": {
          "base_uri": "https://localhost:8080/",
          "height": 35
        }
      },
      "cell_type": "code",
      "source": [
        "# Numero de punto flotante\n",
        "4.52324"
      ],
      "execution_count": 0,
      "outputs": [
        {
          "output_type": "execute_result",
          "data": {
            "text/plain": [
              "4.52324"
            ]
          },
          "metadata": {
            "tags": []
          },
          "execution_count": 14
        }
      ]
    },
    {
      "metadata": {
        "id": "c6lAqEdipHn-",
        "colab_type": "text"
      },
      "cell_type": "markdown",
      "source": [
        "#### Números complejos"
      ]
    },
    {
      "metadata": {
        "id": "sfLlciclpEL4",
        "colab_type": "code",
        "outputId": "4c2af844-0487-446c-84a1-2d76dec04222",
        "colab": {
          "base_uri": "https://localhost:8080/",
          "height": 35
        }
      },
      "cell_type": "code",
      "source": [
        "# Numero complejo\n",
        "complex(1, 5)"
      ],
      "execution_count": 0,
      "outputs": [
        {
          "output_type": "execute_result",
          "data": {
            "text/plain": [
              "(1+5j)"
            ]
          },
          "metadata": {
            "tags": []
          },
          "execution_count": 15
        }
      ]
    },
    {
      "metadata": {
        "id": "pEkW1GR3pOdv",
        "colab_type": "text"
      },
      "cell_type": "markdown",
      "source": [
        "Como mencioné antes, los literales tienen tipos. Puedes comprobar el tipo de una expresión con la función `type`.\n",
        "\n",
        "```python\n",
        "type(EXPRESION)\n",
        "```\n",
        "Intentalo"
      ]
    },
    {
      "metadata": {
        "id": "81WsB93lpJ0O",
        "colab_type": "code",
        "outputId": "458b5c48-887b-4c66-ea48-94d4e61abe84",
        "colab": {
          "base_uri": "https://localhost:8080/",
          "height": 35
        }
      },
      "cell_type": "code",
      "source": [
        "type(5)"
      ],
      "execution_count": 0,
      "outputs": [
        {
          "output_type": "execute_result",
          "data": {
            "text/plain": [
              "int"
            ]
          },
          "metadata": {
            "tags": []
          },
          "execution_count": 16
        }
      ]
    },
    {
      "metadata": {
        "id": "TNg3xLVZpQZo",
        "colab_type": "code",
        "outputId": "4ebb9980-9c3c-4ff3-8f0f-4ff1f2713a6e",
        "colab": {
          "base_uri": "https://localhost:8080/",
          "height": 35
        }
      },
      "cell_type": "code",
      "source": [
        "a = 5\n",
        "type(a)"
      ],
      "execution_count": 0,
      "outputs": [
        {
          "output_type": "execute_result",
          "data": {
            "text/plain": [
              "int"
            ]
          },
          "metadata": {
            "tags": []
          },
          "execution_count": 17
        }
      ]
    },
    {
      "metadata": {
        "id": "hOQVuxjGpSLO",
        "colab_type": "code",
        "outputId": "e9b31697-b465-44b5-8bbb-482eec4ce2b6",
        "colab": {
          "base_uri": "https://localhost:8080/",
          "height": 35
        }
      },
      "cell_type": "code",
      "source": [
        "a = 5.2\n",
        "type(a)"
      ],
      "execution_count": 0,
      "outputs": [
        {
          "output_type": "execute_result",
          "data": {
            "text/plain": [
              "float"
            ]
          },
          "metadata": {
            "tags": []
          },
          "execution_count": 18
        }
      ]
    },
    {
      "metadata": {
        "id": "XWFdBTAQpUHl",
        "colab_type": "code",
        "outputId": "25a13ee0-28e7-47c3-c9eb-1e567328b7bc",
        "colab": {
          "base_uri": "https://localhost:8080/",
          "height": 35
        }
      },
      "cell_type": "code",
      "source": [
        "type(complex(4, 3))"
      ],
      "execution_count": 0,
      "outputs": [
        {
          "output_type": "execute_result",
          "data": {
            "text/plain": [
              "complex"
            ]
          },
          "metadata": {
            "tags": []
          },
          "execution_count": 19
        }
      ]
    },
    {
      "metadata": {
        "id": "e12z_3UD9pTd",
        "colab_type": "text"
      },
      "cell_type": "markdown",
      "source": [
        "## Variables\n",
        "\n",
        "\n",
        "---\n",
        "\n",
        "\n",
        "Python proporciona una forma de nombrar valores llamados ** variables **. Probablemente estés acostumbrado a las variables del álgebra, donde se usan para almacenar números.\n",
        "$$ x_i = 15.4 $$\n",
        "\n",
        "En Python, las variables se declaran con una ** sentencia de asignación **, que crea simultáneamente la variable y le asigna un valor. Esto se logra con el ** operador de asignación ** `=`, así:\n",
        "\n",
        "```python\n",
        "VARIABLE = VALOR_EXPRESION\n",
        "```\n",
        "\n",
        "Por ejemplo, aquí creamos un valor `a` y le asignamos el valor de tipo flotante` 1969.2121`."
      ]
    },
    {
      "metadata": {
        "id": "MqJqXYM_qkzx",
        "colab_type": "code",
        "colab": {}
      },
      "cell_type": "code",
      "source": [
        "a = 1969.2121\n",
        "b = 10\n",
        "c = a + b\n",
        "print(c)"
      ],
      "execution_count": 0,
      "outputs": []
    },
    {
      "metadata": {
        "id": "3L84GS1GrFpT",
        "colab_type": "text"
      },
      "cell_type": "markdown",
      "source": [
        "#### Código legible\n",
        "\n",
        "El uso de nombres de variables descriptivos es una parte importante de la escritura de código legible. La convención en python es usar de una a tres palabras en minúscula unidas con un guión bajo. Por ejemplo:\n",
        "\n",
        "`cumpleanios`\n",
        "\n",
        "o\n",
        "\n",
        "`fecha_fiesta`\n",
        "\n",
        "En algunos casos, la convención permite nombres de variables más cortos. `i` es un nombre convencional para un contador de bucles, por ejemplo.\n"
      ]
    },
    {
      "metadata": {
        "id": "YVmYwQIUrQW0",
        "colab_type": "text"
      },
      "cell_type": "markdown",
      "source": [
        "### Ejecución de derecha a izquierda\n",
        "\n",
        "Si pruebas el siguiente código, ¿qué crees que sucederá?\n",
        "\n",
        "```python\n",
        "a = 7\n",
        "a = a*2\n",
        "print( a )\n",
        "```\n",
        "\n",
        "Intentalo"
      ]
    },
    {
      "metadata": {
        "id": "bvJnQ7-JrIz9",
        "colab_type": "code",
        "outputId": "2f4b1107-6fa8-448e-f18d-0ba2be5d40b2",
        "colab": {
          "base_uri": "https://localhost:8080/",
          "height": 35
        }
      },
      "cell_type": "code",
      "source": [
        "a = 7\n",
        "a = a*2\n",
        "print( a )"
      ],
      "execution_count": 3,
      "outputs": [
        {
          "output_type": "stream",
          "text": [
            "14\n"
          ],
          "name": "stdout"
        }
      ]
    },
    {
      "metadata": {
        "id": "mdwIPtugld3d",
        "colab_type": "code",
        "outputId": "0267c3b9-2972-4088-ae74-eac91f7dc991",
        "colab": {
          "base_uri": "https://localhost:8080/",
          "height": 35
        }
      },
      "cell_type": "code",
      "source": [
        "# Esto es lo mismo de arriba pero con un método diferente.\n",
        "a = 7\n",
        "a *= 2\n",
        "print( a )"
      ],
      "execution_count": 0,
      "outputs": [
        {
          "output_type": "stream",
          "text": [
            "14\n"
          ],
          "name": "stdout"
        }
      ]
    },
    {
      "metadata": {
        "id": "NfgoMnR4rYND",
        "colab_type": "text"
      },
      "cell_type": "markdown",
      "source": [
        "Contra la intuición, esto realmente funciona. Esto se debe a que una declaración de asignación se evalúa ** de derecha a izquierda **. Primero se evalúa la expresión a la derecha del `=`, y luego el resultado se asigna a la variable de la izquierda.\n",
        "\n",
        "Cambiar las variables de esta manera ocurre tan comúnmente que hay una taquigrafía incorporada para ello. El resultado de la primera línea podría haberse logrado con `x + = 5`. Este ** azúcar sintáctico ** está disponible para todas las operaciones simples `+`, `-`,` * `,` / `,` ** `y`% `que cubrimos anteriormente."
      ]
    },
    {
      "metadata": {
        "id": "Zb8IYOjBqLLz",
        "colab_type": "text"
      },
      "cell_type": "markdown",
      "source": [
        "## Expresiones Aritméticas\n",
        "\n",
        "---\n",
        "\n",
        "\n",
        "\n",
        "Python proporciona varias expresiones aritméticas simples para usar con literales numéricos.\n",
        "\n",
        "* `+` Suma\n",
        "* `-` Resta\n",
        "* `*` Multiplicación\n",
        "* `/` Division\n",
        "* `**` Potencias\n",
        "\n",
        "### Otras expresiones:\n",
        "\n",
        "* `//` División entera\n",
        "* `%` Modulo\n"
      ]
    },
    {
      "metadata": {
        "id": "Z1krVv0pqICJ",
        "colab_type": "code",
        "outputId": "6a2532fa-e753-45a3-b65b-bc0ad1b71815",
        "colab": {
          "base_uri": "https://localhost:8080/",
          "height": 35
        }
      },
      "cell_type": "code",
      "source": [
        "# Ejemplos\n",
        "\n",
        "# Suma\n",
        "a = 10\n",
        "print(a + 2)"
      ],
      "execution_count": 0,
      "outputs": [
        {
          "output_type": "stream",
          "text": [
            "12\n"
          ],
          "name": "stdout"
        }
      ]
    },
    {
      "metadata": {
        "id": "cfHsOkipkabq",
        "colab_type": "code",
        "outputId": "6399fbc6-3fe9-4f00-d720-ec307f9dfb34",
        "colab": {
          "base_uri": "https://localhost:8080/",
          "height": 35
        }
      },
      "cell_type": "code",
      "source": [
        "# Resta\n",
        "print(a - 2)"
      ],
      "execution_count": 0,
      "outputs": [
        {
          "output_type": "stream",
          "text": [
            "8\n"
          ],
          "name": "stdout"
        }
      ]
    },
    {
      "metadata": {
        "id": "_njiEMPTkkAR",
        "colab_type": "code",
        "outputId": "19a9671f-dc36-4229-f26a-1c2da3e6c8bd",
        "colab": {
          "base_uri": "https://localhost:8080/",
          "height": 35
        }
      },
      "cell_type": "code",
      "source": [
        "# Multiplicacion\n",
        "print(a * 2)"
      ],
      "execution_count": 0,
      "outputs": [
        {
          "output_type": "stream",
          "text": [
            "20\n"
          ],
          "name": "stdout"
        }
      ]
    },
    {
      "metadata": {
        "id": "AUrr9XkUkm4Z",
        "colab_type": "code",
        "outputId": "6ef6cd1f-51ed-40fd-fe79-817f0363e762",
        "colab": {
          "base_uri": "https://localhost:8080/",
          "height": 35
        }
      },
      "cell_type": "code",
      "source": [
        "# Division\n",
        "print(a/2)"
      ],
      "execution_count": 0,
      "outputs": [
        {
          "output_type": "stream",
          "text": [
            "5.0\n"
          ],
          "name": "stdout"
        }
      ]
    },
    {
      "metadata": {
        "id": "5GNPXbJjko66",
        "colab_type": "code",
        "outputId": "4f1e0205-3d89-4dab-db42-b86540234a81",
        "colab": {
          "base_uri": "https://localhost:8080/",
          "height": 35
        }
      },
      "cell_type": "code",
      "source": [
        "# Potencia\n",
        "a = 5\n",
        "b = 2\n",
        "print(a ** b)"
      ],
      "execution_count": 0,
      "outputs": [
        {
          "output_type": "stream",
          "text": [
            "25\n"
          ],
          "name": "stdout"
        }
      ]
    },
    {
      "metadata": {
        "id": "q-7Z5-qrlBzu",
        "colab_type": "text"
      },
      "cell_type": "markdown",
      "source": [
        "Probar y decir para que sirven: \n",
        "\n",
        "1. Division exacta\n",
        "2. Modulo"
      ]
    },
    {
      "metadata": {
        "id": "Qq26gfHOlLkW",
        "colab_type": "code",
        "outputId": "ae2307af-f139-4f12-f7ba-95e6e99252d9",
        "colab": {
          "base_uri": "https://localhost:8080/",
          "height": 35
        }
      },
      "cell_type": "code",
      "source": [
        "#Division exacta\n",
        "print(17 // 8)"
      ],
      "execution_count": 0,
      "outputs": [
        {
          "output_type": "stream",
          "text": [
            "2\n"
          ],
          "name": "stdout"
        }
      ]
    },
    {
      "metadata": {
        "id": "syjyP9H1lWZk",
        "colab_type": "code",
        "outputId": "935820e0-8688-4d9b-8704-7e8e7f368652",
        "colab": {
          "base_uri": "https://localhost:8080/",
          "height": 35
        }
      },
      "cell_type": "code",
      "source": [
        "# Modulo\n",
        "print(17 % 9)"
      ],
      "execution_count": 0,
      "outputs": [
        {
          "output_type": "stream",
          "text": [
            "8\n"
          ],
          "name": "stdout"
        }
      ]
    },
    {
      "metadata": {
        "id": "I0ZaLnByEzG1",
        "colab_type": "text"
      },
      "cell_type": "markdown",
      "source": [
        "<b><h2>String</h2></b>\n",
        "\n",
        "---\n",
        "\n",
        "Para definir cadenas de caracteres en Python, crea una variable, sin definir expresamente su tipo de variable, y se escribe la cadena entre comillas dobles o comillas simples.\n",
        "\n",
        "Varias cadenas de caracteres se pueden enlazar usando el operador lógico <b>+</b>.\n",
        "\n",
        "Para imprimir una o varias cadenas de caracteres se puede utilizar la función <b>print()</b>."
      ]
    },
    {
      "metadata": {
        "id": "IKHpWgkAFuAG",
        "colab_type": "code",
        "outputId": "063167e4-7783-4e72-fad1-84245579223a",
        "colab": {
          "base_uri": "https://localhost:8080/",
          "height": 51
        }
      },
      "cell_type": "code",
      "source": [
        "arr=\"Hola\"\n",
        "arr1='mundo'\n",
        "print(arr+arr1)\n",
        "arr2=arr+\" \"+arr1\n",
        "print(arr2)"
      ],
      "execution_count": 0,
      "outputs": [
        {
          "output_type": "stream",
          "text": [
            "Holamundo\n",
            "Hola mundo\n"
          ],
          "name": "stdout"
        }
      ]
    },
    {
      "metadata": {
        "id": "ROQez-zpK45j",
        "colab_type": "text"
      },
      "cell_type": "markdown",
      "source": [
        "Dentro de los String en python hay varios métodos que se pueden usar, y que permiten realizar cambios al texto que se incluye en ellos, algunos de ellos son:\n",
        "\n",
        "Para transformar todo el texto en minúscula: <b>lower()</b>.\n",
        "\n",
        "Para transformar todo el texto en mayuscula: <b>upper()</b>.\n",
        "\n",
        "Para reemplazar un caracter \"A\" por otro \"B\": <b>replace(\"A\",\"B\")</b>.\n",
        "\n",
        "Para partir una cadena, a partir de un caracter \"X\": <b>split(\"X\")</b>.\n",
        "\n",
        "Para remover los espacios al principio o fin de una cadena: <b>strip()</b>."
      ]
    },
    {
      "metadata": {
        "colab_type": "code",
        "outputId": "869cb44c-8859-423d-91b1-981c304283a0",
        "id": "ATAWyC_XO8Sv",
        "colab": {
          "base_uri": "https://localhost:8080/",
          "height": 119
        }
      },
      "cell_type": "code",
      "source": [
        "arr=\"Hola Mundo\"\n",
        "print(arr)\n",
        "minus=arr.lower()\n",
        "print(minus)\n",
        "mayus=arr.upper()\n",
        "print(mayus)\n",
        "rep=arr.replace(\"H\",\"M\")\n",
        "print(rep)\n",
        "part=arr.split(\"M\")\n",
        "print(part)\n",
        "peg=arr.strip()\n",
        "print(peg)"
      ],
      "execution_count": 0,
      "outputs": [
        {
          "output_type": "stream",
          "text": [
            "Hola Mundo\n",
            "hola mundo\n",
            "HOLA MUNDO\n",
            "Mola Mundo\n",
            "['Hola ', 'undo']\n",
            "Hola Mundo\n"
          ],
          "name": "stdout"
        }
      ]
    },
    {
      "metadata": {
        "id": "1c3wcnupJSTS",
        "colab_type": "text"
      },
      "cell_type": "markdown",
      "source": [
        "<b><h2>Indexación de String</h2></b>\n",
        "\n",
        "---\n",
        "\n",
        "Las cadenas de caracteres en Python, pueden ser tomadas como arreglos o listas de caracteres, en ese sentido, se pueden usar algunos de los métodos que se suelen usar con las listas.\n",
        "\n",
        "Para obtener alguno de los caracteres que hay dentro de un string, se puede tomar como si fuera una lista o arreglo, y por medio de llaves cuadradas <b>[ ]</b> y la indexación se realiza igual que en un arreglo, desde 0 hasta el tamaño de la cadena - 1.\n",
        "\n",
        "Una característica especial es que se puede obtener también de atrás hacia adelante, como si fuera la misma cadena hecha palíndromo, con caractér central siendo el 0, es decir, de la cadena se pueden obtener con índices negativos, desde -(longitud de cadena) hasta 0.\n"
      ]
    },
    {
      "metadata": {
        "id": "04YXrf73fSVD",
        "colab_type": "code",
        "outputId": "65b0c09d-ffb9-4a8e-e380-dcb3294013b8",
        "colab": {
          "base_uri": "https://localhost:8080/",
          "height": 51
        }
      },
      "cell_type": "code",
      "source": [
        "arr=\"Hola Mundo\"\n",
        "print(arr[8])\n",
        "print(arr[-2])"
      ],
      "execution_count": 0,
      "outputs": [
        {
          "output_type": "stream",
          "text": [
            "d\n",
            "d\n"
          ],
          "name": "stdout"
        }
      ]
    },
    {
      "metadata": {
        "id": "mMjlULNPhX6h",
        "colab_type": "text"
      },
      "cell_type": "markdown",
      "source": [
        "Así mismo, como se puede obtener un elemento de la cadena, se puede obtener un grupo de elementos, seleccionando varios elementos de la lista, uno a uno, o por un grupo de <b>a</b> hasta <b>b-1</b>, usando <b>[ a : b ]</b>\n",
        "\n",
        "Para indicar que se toma desde el principio hasta el caracter <b>b</b>, se hace <b>[ : b]</b>\n",
        "\n",
        "Para indicar que se toma desde el caracter <b>a</b> hasta el final se hace <b>[a : ]</b>"
      ]
    },
    {
      "metadata": {
        "id": "ePbXChBeh3mF",
        "colab_type": "code",
        "outputId": "b34b701a-6357-4d38-8668-ebf4e15f7f32",
        "colab": {
          "base_uri": "https://localhost:8080/",
          "height": 85
        }
      },
      "cell_type": "code",
      "source": [
        "arr=\"Hola Mundo\"\n",
        "print(arr[2]+arr[3]+arr[4]+arr[5]+arr[6])\n",
        "print(arr[2:7])\n",
        "print(arr[2:])\n",
        "print(arr[:7])"
      ],
      "execution_count": 0,
      "outputs": [
        {
          "output_type": "stream",
          "text": [
            "la Mu\n",
            "la Mu\n",
            "la Mundo\n",
            "Hola Mu\n"
          ],
          "name": "stdout"
        }
      ]
    },
    {
      "metadata": {
        "id": "kRdcFxkcqIpA",
        "colab_type": "text"
      },
      "cell_type": "markdown",
      "source": [
        "<b><h2>Booleanos</h2></b>\n",
        "\n",
        "---\n",
        "\n",
        "En Python, los booleanos se escriben en letras, como palabras <b>True</b> y <b>False</b>\n",
        "  \n",
        " Se pueden usar para generar condiciones, y también se pueden generar a partir de funciones que retornan un booleano o comparaciones, usando los operaciones matemáticas <b>> < >= <= == !=</b>, o las lógicas <b>and</b> y <b>or</b>"
      ]
    },
    {
      "metadata": {
        "id": "1SmIP7xO0X5D",
        "colab_type": "code",
        "outputId": "e5505b1f-5eeb-4c07-905d-58271ae17d3a",
        "colab": {
          "base_uri": "https://localhost:8080/",
          "height": 119
        }
      },
      "cell_type": "code",
      "source": [
        "arr=\"Hola\"\n",
        "print(arr.startswith('H'))\n",
        "print(arr.startswith('M'))\n",
        "print(5<2)\n",
        "print(\"H\"==\"h\")\n",
        "print(True and False)\n",
        "print(True or False)"
      ],
      "execution_count": 0,
      "outputs": [
        {
          "output_type": "stream",
          "text": [
            "True\n",
            "False\n",
            "False\n",
            "False\n",
            "False\n",
            "True\n"
          ],
          "name": "stdout"
        }
      ]
    },
    {
      "metadata": {
        "id": "D4222PSg9OFG",
        "colab_type": "text"
      },
      "cell_type": "markdown",
      "source": [
        "<b><h2>Sentencia IF - ELSE</h2></b>\n",
        "\n",
        "---\n",
        "\n",
        "En Python, al igual que en la mayoría de lenguajes, existe la estructura if else, que es el equivalente del operador lógico si -> entonces.\n",
        "\n",
        "Para usar esta estructura en python, se debe poner la palabra clave if, seguido de la condición de antecedente, seguido por dos puntos <b>\":\"</b>, luego, en la siguiente linea, con por lo menos un espacio de identación en relación con el inicio de la definición del if."
      ]
    },
    {
      "metadata": {
        "id": "wfy5e4eyBLDL",
        "colab_type": "code",
        "outputId": "620cbd2f-ba3f-43e1-c0b6-e9bd24e07ff9",
        "colab": {
          "base_uri": "https://localhost:8080/",
          "height": 34
        }
      },
      "cell_type": "code",
      "source": [
        "if 1==1:\n",
        "  print(\"Uno es igual a uno\")"
      ],
      "execution_count": 0,
      "outputs": [
        {
          "output_type": "stream",
          "text": [
            "Uno es igual a uno\n"
          ],
          "name": "stdout"
        }
      ]
    },
    {
      "metadata": {
        "id": "TwIr0yuFBbF7",
        "colab_type": "text"
      },
      "cell_type": "markdown",
      "source": [
        "Para pasar a otra opción, cuando no se cumple el antecedente del if, usamos la palabra clave else, después del consecuente del if, pero al nivel que se encuentra el if."
      ]
    },
    {
      "metadata": {
        "id": "YRdyuC39DeJs",
        "colab_type": "code",
        "outputId": "883f7a91-4ff5-44b3-cb1a-6166918c6963",
        "colab": {
          "base_uri": "https://localhost:8080/",
          "height": 34
        }
      },
      "cell_type": "code",
      "source": [
        "if 1==2:\n",
        "  print(\"Uno es igual a dos\")\n",
        "else:\n",
        "  print(\"Uno NO es igual a dos\")"
      ],
      "execution_count": 0,
      "outputs": [
        {
          "output_type": "stream",
          "text": [
            "Uno NO es igual a dos\n"
          ],
          "name": "stdout"
        }
      ]
    },
    {
      "metadata": {
        "id": "TevgmggxE_ir",
        "colab_type": "text"
      },
      "cell_type": "markdown",
      "source": [
        "El if, se puede usar de maneras cortas, es decir, en un solo renglón"
      ]
    },
    {
      "metadata": {
        "id": "6gPaBCp-FKtK",
        "colab_type": "code",
        "outputId": "42618d96-8ab4-4c6a-b49a-6ba79556e862",
        "colab": {
          "base_uri": "https://localhost:8080/",
          "height": 34
        }
      },
      "cell_type": "code",
      "source": [
        "if 1==1: print(\"Uno es igual uno\")"
      ],
      "execution_count": 0,
      "outputs": [
        {
          "output_type": "stream",
          "text": [
            "Uno es igual uno\n"
          ],
          "name": "stdout"
        }
      ]
    },
    {
      "metadata": {
        "id": "txBpgxgAFUHe",
        "colab_type": "text"
      },
      "cell_type": "markdown",
      "source": [
        "Así mismo se puede usar la estructura completa if - else en una sola linea, pero sin usar los dos puntos, y se puede hacer con más de dos condiciones."
      ]
    },
    {
      "metadata": {
        "id": "1HRlWqwHIG5S",
        "colab_type": "code",
        "outputId": "511677e3-66e5-4f66-8555-b55de690a3e8",
        "colab": {
          "base_uri": "https://localhost:8080/",
          "height": 68
        }
      },
      "cell_type": "code",
      "source": [
        "print(\"A\") if 1==1 else print(\"B\")\n",
        "print(\"A\") if 1!=1 else print(\"B\")\n",
        "print(\"A\") if 1==1 else print(\"B\") if 1!=1 else print(\"C\")"
      ],
      "execution_count": 0,
      "outputs": [
        {
          "output_type": "stream",
          "text": [
            "A\n",
            "B\n",
            "A\n"
          ],
          "name": "stdout"
        }
      ]
    },
    {
      "metadata": {
        "id": "Q5eW4_BGJbWS",
        "colab_type": "text"
      },
      "cell_type": "markdown",
      "source": [
        "Por supuesto, dentro de la clausula if, se puede usar las operaciones lógicas, or y and"
      ]
    },
    {
      "metadata": {
        "id": "0EJ5ybkCJqwX",
        "colab_type": "code",
        "outputId": "381288c2-733c-4597-918c-6498955d2ce5",
        "colab": {
          "base_uri": "https://localhost:8080/",
          "height": 197
        }
      },
      "cell_type": "code",
      "source": [
        "if True and False:\n",
        "  print(\"Verdadero y Falso\")\n",
        "else:\n",
        "  print(Falso)"
      ],
      "execution_count": 0,
      "outputs": [
        {
          "output_type": "error",
          "ename": "NameError",
          "evalue": "ignored",
          "traceback": [
            "\u001b[0;31m---------------------------------------------------------------------------\u001b[0m",
            "\u001b[0;31mNameError\u001b[0m                                 Traceback (most recent call last)",
            "\u001b[0;32m<ipython-input-58-42561be7e18c>\u001b[0m in \u001b[0;36m<module>\u001b[0;34m()\u001b[0m\n\u001b[1;32m      2\u001b[0m   \u001b[0mprint\u001b[0m\u001b[0;34m(\u001b[0m\u001b[0;34m\"Verdadero y Falso\"\u001b[0m\u001b[0;34m)\u001b[0m\u001b[0;34m\u001b[0m\u001b[0;34m\u001b[0m\u001b[0m\n\u001b[1;32m      3\u001b[0m \u001b[0;32melse\u001b[0m\u001b[0;34m:\u001b[0m\u001b[0;34m\u001b[0m\u001b[0;34m\u001b[0m\u001b[0m\n\u001b[0;32m----> 4\u001b[0;31m   \u001b[0mprint\u001b[0m\u001b[0;34m(\u001b[0m\u001b[0mFalso\u001b[0m\u001b[0;34m)\u001b[0m\u001b[0;34m\u001b[0m\u001b[0;34m\u001b[0m\u001b[0m\n\u001b[0m",
            "\u001b[0;31mNameError\u001b[0m: name 'Falso' is not defined"
          ]
        }
      ]
    }
  ]
}