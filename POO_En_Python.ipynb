{
  "nbformat": 4,
  "nbformat_minor": 0,
  "metadata": {
    "colab": {
      "name": "POO En Python",
      "version": "0.3.2",
      "provenance": [],
      "collapsed_sections": [],
      "include_colab_link": true
    },
    "kernelspec": {
      "name": "python3",
      "display_name": "Python 3"
    }
  },
  "cells": [
    {
      "cell_type": "markdown",
      "metadata": {
        "id": "view-in-github",
        "colab_type": "text"
      },
      "source": [
        "<a href=\"https://colab.research.google.com/github/macaguegi/pygroup-notes/blob/master/POO_En_Python.ipynb\" target=\"_parent\"><img src=\"https://colab.research.google.com/assets/colab-badge.svg\" alt=\"Open In Colab\"/></a>"
      ]
    },
    {
      "cell_type": "markdown",
      "metadata": {
        "id": "Tg6orYgafUNS",
        "colab_type": "text"
      },
      "source": [
        "#Programación orientada a objetos en Python\n",
        "---\n",
        "La programación orientada a objetos ha sido el paradigma lider de la programación desde hace varios años atras. Siendo un conjunto de conceptos de programación y metodologías de diseño, la orientación a objetos puede que nunca sea implementada \"correctamente o completamente\" por un lenguaje, por otro lado, hay implementaciones de la orientación en los lenguajes. "
      ]
    },
    {
      "cell_type": "markdown",
      "metadata": {
        "id": "i3o8Je-AMCX7",
        "colab_type": "text"
      },
      "source": [
        "##Objetos\n",
        "---\n",
        "La ciencia de la computación trata con datos y con procedimientos para manipular esos datos. Entonces, si los datos son los ingredientes y los procedimientos las recetas, puede parecer (y pueder ser) razonable mantenerlos separados. Ya hemos hecho programación de forma procedural en sesiones anteriores, y una característica que se podía apreciar era la de conservar los datos iniciales y crear nuevos datos a través de operaciones sobre estos. Sin embargo, la observación del mundo real muestra que los datos complejos son mutables: un dispositivo electrónico está encendido o apagado, una puerta se encuentra abierta o cerrada, el contenido de un armario en tu cuarto cambia conforme agregas nueva ropa. Esta observación revela que la separación entre los datos y los procedimientos no siempre encajan perfectamente en algunas situaciones. Para ello se trata con el concepto de objeto, un objeto es una estructua que contiene datos y procedimientos que operan sobre estos datos. "
      ]
    },
    {
      "cell_type": "markdown",
      "metadata": {
        "id": "hMQ-l2DXhl1F",
        "colab_type": "text"
      },
      "source": [
        "Esta sección explica cómo usar clases y objetos en Python. Los objetos son una encapsulación de variables y funciones en una sola entidad. Los objetos obtienen sus variables y funciones de las clases. Las clases son esencialmente una plantilla para crear tus objetos. "
      ]
    },
    {
      "cell_type": "markdown",
      "metadata": {
        "id": "HqwMll5doUgx",
        "colab_type": "text"
      },
      "source": [
        "##Clases\n",
        "---\n",
        "Los objetos en Python pueden ser construidos describiendo su estructura a través de una clase. Una clase es la representación en la programación de un objeto genérico, como un \"libro\", \"un carro\", \"una puerta\". En Python, el tipo de un objeto es representado por la clase usada para construir el objeto, esto es, en Python la palabra clave ```type``` tiene el mismo significado que la palabra ```class```. Por ejemplo, una de las clases por defecto en el lenguaje es ```int```, la cual representa un número entero."
      ]
    },
    {
      "cell_type": "code",
      "metadata": {
        "id": "psBjft-nO2vF",
        "colab_type": "code",
        "outputId": "632f8ac6-bedf-4d10-ac81-290f49d9c7d2",
        "colab": {
          "base_uri": "https://localhost:8080/",
          "height": 34
        }
      },
      "source": [
        "a = 6\n",
        "a"
      ],
      "execution_count": 0,
      "outputs": [
        {
          "output_type": "execute_result",
          "data": {
            "text/plain": [
              "6"
            ]
          },
          "metadata": {
            "tags": []
          },
          "execution_count": 1
        }
      ]
    },
    {
      "cell_type": "code",
      "metadata": {
        "id": "bxegWst8O8hE",
        "colab_type": "code",
        "outputId": "500bb629-4841-4413-d2b8-f8e92541f631",
        "colab": {
          "base_uri": "https://localhost:8080/",
          "height": 34
        }
      },
      "source": [
        "print(type(a))"
      ],
      "execution_count": 0,
      "outputs": [
        {
          "output_type": "stream",
          "text": [
            "<class 'int'>\n"
          ],
          "name": "stdout"
        }
      ]
    },
    {
      "cell_type": "code",
      "metadata": {
        "id": "iZJ9fOrKPCF5",
        "colab_type": "code",
        "outputId": "3a94bbbf-e514-4b32-d4b9-d786cbba374f",
        "colab": {
          "base_uri": "https://localhost:8080/",
          "height": 34
        }
      },
      "source": [
        "print(a.__class__)"
      ],
      "execution_count": 0,
      "outputs": [
        {
          "output_type": "stream",
          "text": [
            "<class 'int'>\n"
          ],
          "name": "stdout"
        }
      ]
    },
    {
      "cell_type": "markdown",
      "metadata": {
        "id": "ZbqTsFKZPLZh",
        "colab_type": "text"
      },
      "source": [
        "Como se puede apreciar, la función incorporada ```type()``` retorna el contenido del atributo ```__class__```. Una vez que se tiene una clase se puede *ejemplificar* para conseguir un objeto concreto de ese tipo. La sintáxis en el lenguaje para ejemplificar una clase es la misma que para llamar una función."
      ]
    },
    {
      "cell_type": "code",
      "metadata": {
        "id": "WaB2-08KP_Sz",
        "colab_type": "code",
        "outputId": "3cf6bf5f-e39b-47bd-d70c-fc6603309a8e",
        "colab": {
          "base_uri": "https://localhost:8080/",
          "height": 34
        }
      },
      "source": [
        "c = float()\n",
        "print(type(c))"
      ],
      "execution_count": 0,
      "outputs": [
        {
          "output_type": "stream",
          "text": [
            "<class 'float'>\n"
          ],
          "name": "stdout"
        }
      ]
    },
    {
      "cell_type": "markdown",
      "metadata": {
        "id": "ZCUV5My9lzf1",
        "colab_type": "text"
      },
      "source": [
        "## Definiendo nuestras propias clases"
      ]
    },
    {
      "cell_type": "markdown",
      "metadata": {
        "id": "zw7N0_wpnhWj",
        "colab_type": "text"
      },
      "source": [
        "Definir una clase en Python es muy simple"
      ]
    },
    {
      "cell_type": "code",
      "metadata": {
        "id": "NYv9_SEdnk19",
        "colab_type": "code",
        "colab": {}
      },
      "source": [
        "class Perro:\n",
        "    pass"
      ],
      "execution_count": 0,
      "outputs": []
    },
    {
      "cell_type": "markdown",
      "metadata": {
        "id": "y6HigpGgn7ti",
        "colab_type": "text"
      },
      "source": [
        "\n",
        "**Atributos de instancia**\n",
        "Todas las clases crean objetos y todos los objetos contienen características llamadas atributos . Usa el método **__init __ ()** para inicializar (por ejemplo, especificar) los atributos iniciales de un objeto, dándoles su valor predeterminado (o estado). Este método debe tener al menos un argumento, así como la  variable self, que se refiere al objeto en sí (por ejemplo, Perro)."
      ]
    },
    {
      "cell_type": "code",
      "metadata": {
        "id": "y1WsWd2foLYH",
        "colab_type": "code",
        "colab": {}
      },
      "source": [
        "class Perro:\n",
        "\n",
        "    # Inicializador / Atributos de la instancia\n",
        "    def __init__(self, nombre, edad):\n",
        "        self.nombre = nombre\n",
        "        self.edad = edad"
      ],
      "execution_count": 0,
      "outputs": []
    },
    {
      "cell_type": "markdown",
      "metadata": {
        "id": "8Xztp8UOpBGo",
        "colab_type": "text"
      },
      "source": [
        "En el caso de nuestra clase Perro (), cada perro tiene un nombre y una edad específica, lo que obviamente es importante saber cuando comienzas a crear perros diferentes. Recuerda: la clase es solo para definir el Perro, no para crear instancias de perros individuales con nombres y edades específicas; Llegaremos a eso en breve.\n",
        "\n",
        "Del mismo modo, la variable self es también una instancia de la clase. Como las instancias de una clase tienen valores variables, podríamos indicar Perro.nombre = nombre en lugar de self.nombre = nombre. Pero como no todos los perros comparten el mismo nombre, debemos poder asignar diferentes valores a diferentes instancias. De ahí la necesidad de la variable personal especial, que ayudará a realizar un seguimiento de las instancias individuales de cada clase."
      ]
    },
    {
      "cell_type": "markdown",
      "metadata": {
        "id": "6xpdwZXIpupd",
        "colab_type": "text"
      },
      "source": [
        "**Atributos de clase**\n",
        "\n",
        "Mientras que los atributos de instancia son específicos para cada objeto, los atributos de clase son los mismos para todas las instancias, que en este caso son todos los perros."
      ]
    },
    {
      "cell_type": "code",
      "metadata": {
        "id": "BWH2FX7dqHiZ",
        "colab_type": "code",
        "colab": {}
      },
      "source": [
        "class Perro:\n",
        "\n",
        "    especie = 'mamifero'\n",
        "    \n",
        "    # Inicializador / Atributos de la instancia\n",
        "    def __init__(self, nombre, edad):\n",
        "        self.nombre = nombre\n",
        "        self.edad = edad"
      ],
      "execution_count": 0,
      "outputs": []
    },
    {
      "cell_type": "markdown",
      "metadata": {
        "id": "SSKvXE_AqTKK",
        "colab_type": "text"
      },
      "source": [
        "Veamos un ejemplo más completo"
      ]
    },
    {
      "cell_type": "code",
      "metadata": {
        "id": "_6zDwhH7qWL4",
        "colab_type": "code",
        "outputId": "edc704a4-9dfc-4fcd-d14e-ae44ed015d1d",
        "colab": {
          "base_uri": "https://localhost:8080/",
          "height": 51
        }
      },
      "source": [
        "class Perro:\n",
        "\n",
        "    # Atributo de clase\n",
        "    especie = 'mamifero'\n",
        "\n",
        "    # Inicializador / Atributos de la instancia\n",
        "    def __init__(self, nombre, edad):\n",
        "        self.nombre = nombre\n",
        "        self.edad = edad\n",
        "\n",
        "\n",
        "# Instanciar el objeto perro\n",
        "lulu = Perro(\"Lulu\", 3)\n",
        "philo = Perro(\"Philo\", 5)\n",
        "mikey = Perro(\"Mikey\", 6)\n",
        "\n",
        "mikey.nombre = 'Jickey'\n",
        "\n",
        "\n",
        "# Acceder a los atributos de la instancia\n",
        "\n",
        "print(\"{} tiene {} años y {} tiene {} años.\".format(\n",
        "    philo.nombre, philo.edad, mikey.nombre, mikey.edad))\n",
        "\n",
        "# Philo es un mamifero\n",
        "if philo.especie == \"lo\":\n",
        "    print(\"{0} es un {1}!\".format(philo.nombre, philo.especie))"
      ],
      "execution_count": 0,
      "outputs": [
        {
          "output_type": "stream",
          "text": [
            "Algo5\n",
            "Philo tiene 5 años y Jickey tiene 6 años.\n"
          ],
          "name": "stdout"
        }
      ]
    },
    {
      "cell_type": "code",
      "metadata": {
        "id": "uYBw12xThrtq",
        "colab_type": "code",
        "colab": {}
      },
      "source": [
        "\n",
        "# Una clase básica se veria algo así\n",
        "class MiClase:\n",
        "    variable = \"blah\"\n",
        "\n",
        "    def funcion(self):\n",
        "        print(\"Este es un mensaje dentro de la clase.\")\n",
        "\n"
      ],
      "execution_count": 0,
      "outputs": []
    },
    {
      "cell_type": "code",
      "metadata": {
        "id": "wVNMkVW3iFD0",
        "colab_type": "code",
        "colab": {}
      },
      "source": [
        "# Te explicaremos más adelante la razon por la cual incluimosn\"self\" como un parametro\n",
        "# Primero, para asignar la clase que hicimos a un objeto deberiamos hacer lo siguiente\n",
        "class MiClase:\n",
        "    variable = \"blah\"\n",
        "\n",
        "    def funcion(self):\n",
        "        print(\"Este es un mensaje dentro de la clase.\")\n",
        "\n",
        "mi_objeto = MiClase()\n",
        "\n",
        "# Ahora la variable mi_objeto guarda un objeto de la clase \"MiClase\" que contiene  \n",
        "# una variable y una funcion definida"
      ],
      "execution_count": 0,
      "outputs": []
    },
    {
      "cell_type": "markdown",
      "metadata": {
        "id": "aVwuwkX9jC7Z",
        "colab_type": "text"
      },
      "source": [
        "### Accediendo a variables de un objeto"
      ]
    },
    {
      "cell_type": "code",
      "metadata": {
        "id": "83ECH0c5jHG5",
        "colab_type": "code",
        "outputId": "84e57ee1-0dd0-4a6a-955d-557764fc24c3",
        "colab": {
          "base_uri": "https://localhost:8080/",
          "height": 34
        }
      },
      "source": [
        "# Para acceder a la variable dentro del recien creado objeto \"mi_objeto\" hacemos lo siguiente\n",
        "class MiClase:\n",
        "    variable = \"blah\"\n",
        "\n",
        "    def funcion(self):\n",
        "        print(\"Este es un mensaje dentro de la clase.\")\n",
        "\n",
        "mi_objeto = MiClase()\n",
        "\n",
        "mi_objeto.variable"
      ],
      "execution_count": 0,
      "outputs": [
        {
          "output_type": "execute_result",
          "data": {
            "text/plain": [
              "'blah'"
            ]
          },
          "metadata": {
            "tags": []
          },
          "execution_count": 6
        }
      ]
    },
    {
      "cell_type": "code",
      "metadata": {
        "id": "Xes2liswjdrk",
        "colab_type": "code",
        "outputId": "bd801743-038d-4dd4-af50-e2983cc02d51",
        "colab": {
          "base_uri": "https://localhost:8080/",
          "height": 34
        }
      },
      "source": [
        "# Por ejemplo, para mostrar esta variable como una salida (impresion)...\n",
        "class MiClase:\n",
        "    variable = \"blah\"\n",
        "\n",
        "    def funcion(self):\n",
        "        print(\"Este es un mensaje dentro de la clase.\")\n",
        "\n",
        "mi_objeto = MiClase()\n",
        "\n",
        "print(mi_objeto.variable)"
      ],
      "execution_count": 0,
      "outputs": [
        {
          "output_type": "stream",
          "text": [
            "blah\n"
          ],
          "name": "stdout"
        }
      ]
    },
    {
      "cell_type": "code",
      "metadata": {
        "id": "68xGaFbckTDq",
        "colab_type": "code",
        "outputId": "191606fb-a865-40aa-997d-47a4f7a8cb81",
        "colab": {
          "base_uri": "https://localhost:8080/",
          "height": 51
        }
      },
      "source": [
        "# Se pueden crear diferentes objetos que son de la misma clase(tienen las mismas variables y funciones definidas). \n",
        "# Sin embargo, cada objeto contiene sus copias independientes de las variables definidas en la clase. \n",
        "# Por ejemplo, si quisieramos definir otro objeto con la clase \"MiClase\" y luego cambiar la variable \n",
        "# hacemos esto:\n",
        "\n",
        "class MiClase:\n",
        "    variable = \"blah\"\n",
        "\n",
        "    def funcion(self):\n",
        "        print(\"Este es un mensaje dentro de la clase.\")\n",
        "\n",
        "mi_objetox = MiClase()\n",
        "mi_objetoy = MiClase()\n",
        "\n",
        "mi_objetoy.variable = \"pygroup\"\n",
        "\n",
        "# Luego imprimimos las dos variables\n",
        "print(mi_objetox.variable)\n",
        "print(mi_objetoy.variable)"
      ],
      "execution_count": 0,
      "outputs": [
        {
          "output_type": "stream",
          "text": [
            "blah\n",
            "pygroup\n"
          ],
          "name": "stdout"
        }
      ]
    },
    {
      "cell_type": "markdown",
      "metadata": {
        "id": "4i9NtGcXlXR1",
        "colab_type": "text"
      },
      "source": [
        "### Accediendo a funciones de un objeto"
      ]
    },
    {
      "cell_type": "code",
      "metadata": {
        "id": "TNGWXaMDlZ1u",
        "colab_type": "code",
        "outputId": "60cbaf1b-9cb8-4b2e-85e8-5b02b88c673c",
        "colab": {
          "base_uri": "https://localhost:8080/",
          "height": 34
        }
      },
      "source": [
        "# Para acceder a una función que está dentro de un objeto se usa una notación similar a la de acceder a una variable:\n",
        "class MiClase:\n",
        "    variable = \"blah\"\n",
        "\n",
        "    def funcion(self):\n",
        "        print(\"Este es un mensaje dentro de la clase.\")\n",
        "\n",
        "mi_objetox = MiClase()\n",
        "\n",
        "mi_objetox.funcion()\n",
        "\n",
        "# Lo de arriba imprimirá el mensaje"
      ],
      "execution_count": 0,
      "outputs": [
        {
          "output_type": "stream",
          "text": [
            "Este es un mensaje dentro de la clase.\n"
          ],
          "name": "stdout"
        }
      ]
    },
    {
      "cell_type": "markdown",
      "metadata": {
        "id": "8YvlAzR7t00V",
        "colab_type": "text"
      },
      "source": [
        "##Métodos\n",
        "---\n",
        "Los métodos hacen referencia, desde un punto de vista de comportamiento, a todo aquello que puede hacer un objeto; Desde el punto de vista de la estructura se visualiza como un algoritmo específico a un objeto que se ejcuta a partir de la recepción de un mensaje y que produce un cambio en la propiedades del objeto, o la generación de un \"evento\" con un nuevo mensaje para otro en el sistema. En esencia es una función que pertenece a un objeto. En Python, los métodos se definen usando la siguiente sintaxis:\n",
        "\n",
        "```python\n",
        "def nombreDelMétodo(parámetros):\n",
        "  #algoritmo\n",
        "```\n",
        "A continuación se puede observar un ejemplo de definición de un método:"
      ]
    },
    {
      "cell_type": "code",
      "metadata": {
        "id": "auFk-thLzzGR",
        "colab_type": "code",
        "outputId": "18e50df9-e4f7-4274-cf2e-402789182a72",
        "colab": {
          "base_uri": "https://localhost:8080/",
          "height": 34
        }
      },
      "source": [
        "class Triangulo:\n",
        "  \"\"\"Clase de ejemplo\"\"\"\n",
        "  def imprimirTipo(self):\n",
        "    print('Polígono')\n",
        "#-------------------------------\n",
        "a = Triangulo()\n",
        "a.imprimirTipo()"
      ],
      "execution_count": 0,
      "outputs": [
        {
          "output_type": "stream",
          "text": [
            "Polígono\n"
          ],
          "name": "stdout"
        }
      ]
    },
    {
      "cell_type": "markdown",
      "metadata": {
        "id": "4uO2C22y2pKY",
        "colab_type": "text"
      },
      "source": [
        "Por convención , los métodos de una clase tienen que aceptar como primer argumento un valor especial llamado ```self```. Es posible observar que para poder ejecutar un método, al igual que para hacer referencia a atributos, se utiliza la sintaxis ```objeto.método()```. No olvidar hacer uso de esta forma para llamar métodos, porque en caso de hacerlo sin los paréntesis se retornará un objeto de tipo método y no el resultado del método. Adicionalmente es posible mencionar que no es necesario ejemplificar una clase para hacer uso de sus métodos. Por ejemplo:"
      ]
    },
    {
      "cell_type": "code",
      "metadata": {
        "id": "TF_JTUcn4RFW",
        "colab_type": "code",
        "outputId": "6bcc26c6-8c0d-4339-cb62-12c07310200c",
        "colab": {
          "base_uri": "https://localhost:8080/",
          "height": 34
        }
      },
      "source": [
        "type(Triangulo().imprimirTipo)"
      ],
      "execution_count": 0,
      "outputs": [
        {
          "output_type": "execute_result",
          "data": {
            "text/plain": [
              "method"
            ]
          },
          "metadata": {
            "tags": []
          },
          "execution_count": 19
        }
      ]
    },
    {
      "cell_type": "code",
      "metadata": {
        "id": "dPVvkfvR3eJ4",
        "colab_type": "code",
        "outputId": "5e825a69-66c7-447a-8cf8-942b990cc136",
        "colab": {
          "base_uri": "https://localhost:8080/",
          "height": 34
        }
      },
      "source": [
        "Triangulo().imprimirTipo()"
      ],
      "execution_count": 0,
      "outputs": [
        {
          "output_type": "stream",
          "text": [
            "Polígono\n"
          ],
          "name": "stdout"
        }
      ]
    },
    {
      "cell_type": "markdown",
      "metadata": {
        "id": "Mf6WXGtUpURr",
        "colab_type": "text"
      },
      "source": [
        "###El método constructor \n",
        "Ahora bien, en el paradigma orientado a objetos es común encontrar un método especial asociado a cada objeto particular, y es el constructor; Como su nombre lo indica tiene la tarea particular de \"construir\" un objeto, eso se traduce en darle un valor inicial a los atributos de los cuales se compone un objeto y que se describen en una clase, es decir, brindar un estado inicial de los objetos. En el lenguaje Python se utiliza el método especial ```__init__```. La sintaxis es la siguiente:\n",
        "\n",
        " ```python\n",
        "def __init__([parámetros]):\n",
        "  #atributos\n",
        " ```\n",
        "Utilizar este método tiene una serie de consecuencias:\n",
        "\n",
        "1. Es el primer método que se ejecuta cuando se crea un objeto.\n",
        "2. Es llamado de forma automática, por lo que es imposible de ignorar.\n",
        "3. Puede recibir parámetros que se utilizan normalmente para inicializar atributos.\n",
        "4. Es un método opcional, pero de forma común se declara."
      ]
    },
    {
      "cell_type": "code",
      "metadata": {
        "id": "_B3JZcXMtaFL",
        "colab_type": "code",
        "outputId": "ce21a08c-caab-4fdc-90b8-94e6f0e6cf7b",
        "colab": {
          "base_uri": "https://localhost:8080/",
          "height": 34
        }
      },
      "source": [
        "class Triangulo:\n",
        "  \"\"\"Clase de ejemplo\"\"\"\n",
        "  def __init__(self, base, altura):\n",
        "    self.base = base\n",
        "    self.altura = altura\n",
        "#-----------------------------------\n",
        "a = Triangulo(2, 2)\n",
        "print(\"Base: \",a.base,\"Altura: \", a.altura)"
      ],
      "execution_count": 0,
      "outputs": [
        {
          "output_type": "stream",
          "text": [
            "Base:  2 Altura:  2\n"
          ],
          "name": "stdout"
        }
      ]
    },
    {
      "cell_type": "markdown",
      "metadata": {
        "id": "tZekqSqd5wrQ",
        "colab_type": "text"
      },
      "source": [
        "A continuación vamos a crear una clase con método constructor y otros métodos."
      ]
    },
    {
      "cell_type": "code",
      "metadata": {
        "id": "hYuzrQtd56BS",
        "colab_type": "code",
        "outputId": "a9c23136-f457-443e-e2e5-4f8a89bdfdbe",
        "colab": {
          "base_uri": "https://localhost:8080/",
          "height": 102
        }
      },
      "source": [
        "import math as m\n",
        "class Circulo:\n",
        "  \"\"\"Definición de una clase círculo\"\"\"\n",
        "  tipo = \"región del plano\"\n",
        "  def __init__(self, radio):\n",
        "    self.radio = radio\n",
        "  def area(self):\n",
        "    return m.pi*(self.radio**2)\n",
        "  def perimetro(self):\n",
        "    return 2*m.pi*self.radio\n",
        "  def diametro(self):\n",
        "    return 2*self.radio\n",
        "#----------------------------------------\n",
        "miCirculo = Circulo(5)\n",
        "print(\"El radio del círculo creado es: \",miCirculo.radio)\n",
        "print(\"El área del círculo creado es: \", miCirculo.area())\n",
        "print(\"El perímetro del círculo creado es: \", miCirculo.perimetro())\n",
        "print(\"El diámetro del círculo creado es: \", miCirculo.diametro())\n",
        "\n",
        "class Cuadrado:\n",
        "  def __init__(self,lado):\n",
        "    self.lado=lado\n",
        "  def area(self):\n",
        "    return self.lado*2\n",
        "  \n",
        "miCuadrado = Cuadrado(3)\n",
        "print(\"Area: \",miCuadrado.area())"
      ],
      "execution_count": 0,
      "outputs": [
        {
          "output_type": "stream",
          "text": [
            "El radio del círculo creado es:  5\n",
            "El área del círculo creado es:  78.53981633974483\n",
            "El perímetro del círculo creado es:  31.41592653589793\n",
            "El diámetro del círculo creado es:  10\n",
            "Area:  6\n"
          ],
          "name": "stdout"
        }
      ]
    },
    {
      "cell_type": "markdown",
      "metadata": {
        "id": "dMyTFpsvAmqy",
        "colab_type": "text"
      },
      "source": [
        "Los métodos pueden llamar a otros métodos del objeto usando el argumento self. Por ejemplo:"
      ]
    },
    {
      "cell_type": "code",
      "metadata": {
        "id": "sdh6ofp1Av12",
        "colab_type": "code",
        "outputId": "c946b91d-b16f-4fb7-c1a6-db8405c45543",
        "colab": {
          "base_uri": "https://localhost:8080/",
          "height": 51
        }
      },
      "source": [
        "class Mochila:\n",
        "  def __init__(self):\n",
        "    self.contenido = []\n",
        "  def agregar(self, x):\n",
        "    self.contenido.append(x)\n",
        "  def eliminar(self, x):\n",
        "    self.contenido.remove(x)\n",
        "  def agregarTriple(self, x):\n",
        "    self.agregar(x)\n",
        "    self.agregar(x)\n",
        "    self.agregar(x)\n",
        "#----------------------------\n",
        "miMochila = Mochila()\n",
        "miMochila.agregarTriple(\"Cuaderno\")\n",
        "print(miMochila.contenido)\n",
        "miMochila.eliminar(\"Cuaderno\")\n",
        "print(miMochila.contenido)"
      ],
      "execution_count": 0,
      "outputs": [
        {
          "output_type": "stream",
          "text": [
            "['Cuaderno', 'Cuaderno', 'Cuaderno']\n",
            "['Cuaderno', 'Cuaderno']\n"
          ],
          "name": "stdout"
        }
      ]
    },
    {
      "cell_type": "markdown",
      "metadata": {
        "id": "4OsWEYDyQ5jI",
        "colab_type": "text"
      },
      "source": [
        "###Las clases de Python atacan de nuevo\n",
        "La implementación de clases tiene ciertas peculiaridades. Lo cierto es que en Python la clase de un objeto es un objeto por sí misma. Es posible verificar esto usando el método ```type()``` sobre la clase.\n"
      ]
    },
    {
      "cell_type": "code",
      "metadata": {
        "id": "bqguXkP-TVRX",
        "colab_type": "code",
        "outputId": "9ffa80e4-afff-4644-bf4a-2a2c287ab41a",
        "colab": {
          "base_uri": "https://localhost:8080/",
          "height": 34
        }
      },
      "source": [
        "a = 1\n",
        "print(type(a))"
      ],
      "execution_count": 0,
      "outputs": [
        {
          "output_type": "stream",
          "text": [
            "<class 'int'>\n"
          ],
          "name": "stdout"
        }
      ]
    },
    {
      "cell_type": "code",
      "metadata": {
        "id": "IGLzfq_YTYO2",
        "colab_type": "code",
        "outputId": "a4a7bcb5-9881-4ec7-ffc2-c21e85ad7704",
        "colab": {
          "base_uri": "https://localhost:8080/",
          "height": 34
        }
      },
      "source": [
        "print(type(int))"
      ],
      "execution_count": 0,
      "outputs": [
        {
          "output_type": "stream",
          "text": [
            "<class 'type'>\n"
          ],
          "name": "stdout"
        }
      ]
    },
    {
      "cell_type": "markdown",
      "metadata": {
        "id": "wIDH6XuATdyr",
        "colab_type": "text"
      },
      "source": [
        "Esto muestra que la clase ```int``` es un objeto, una ejemplificación de la clase ```type```. Este concepto no es tan dificil de asimilar como se piensa: en el mundo real podemos tratar con *conceptos* usandolos como *objetos*. Por ejemplo podemos hablar acerca del concepto \"ventana\" diciendo cómo luce una y como trabaja.\n",
        "\n",
        "Si la clase de un objeto es por sí misma una ejemplificación es un objeto concreto y está guardado en memoria. Vamos a utilizar las capacidades de inspección de Python y su función ```id()``` para verificar el estado de nuestros objetos. La función retorna la posición de memoria de un objeto. Vamos a observarlo a través de un ejemplo. En primer lugar creamos la clase Puerta que tiene un estado y un número para identificarla."
      ]
    },
    {
      "cell_type": "code",
      "metadata": {
        "id": "5ljYemEeTcFX",
        "colab_type": "code",
        "colab": {}
      },
      "source": [
        "class Puerta:\n",
        "  def __init__(self, numero, estado):\n",
        "    self.numero = numero\n",
        "    self.estado = estado\n",
        "  def abrir(self):\n",
        "    self.estado = 'Abierta'\n",
        "  def cerrar(self):\n",
        "    self.estado = 'Cerrada'"
      ],
      "execution_count": 0,
      "outputs": []
    },
    {
      "cell_type": "markdown",
      "metadata": {
        "id": "DNjp5LYmVm_O",
        "colab_type": "text"
      },
      "source": [
        "Ahora vamos a crear dos ejemplificaciones de la clase Puerta y a verificar que los dos objetos están guardados en diferentes direcciones"
      ]
    },
    {
      "cell_type": "code",
      "metadata": {
        "id": "GlLBKVZRTcMg",
        "colab_type": "code",
        "outputId": "870242dd-5686-43f8-d09d-fae2547acea5",
        "colab": {
          "base_uri": "https://localhost:8080/",
          "height": 34
        }
      },
      "source": [
        "puerta1 = Puerta(1, \"Cerrada\")\n",
        "puerta2 = Puerta(1, \"Cerrada\")\n",
        "\n",
        "hex(id(puerta1))"
      ],
      "execution_count": 0,
      "outputs": [
        {
          "output_type": "execute_result",
          "data": {
            "text/plain": [
              "'0x7f603cd7d2e8'"
            ]
          },
          "metadata": {
            "tags": []
          },
          "execution_count": 10
        }
      ]
    },
    {
      "cell_type": "code",
      "metadata": {
        "id": "1tPeLFNQTaQJ",
        "colab_type": "code",
        "outputId": "e0afed61-9e1e-4ac6-c346-cc09d55cb8ed",
        "colab": {
          "base_uri": "https://localhost:8080/",
          "height": 34
        }
      },
      "source": [
        "hex(id(puerta2))"
      ],
      "execution_count": 0,
      "outputs": [
        {
          "output_type": "execute_result",
          "data": {
            "text/plain": [
              "'0x7f603cd7d2b0'"
            ]
          },
          "metadata": {
            "tags": []
          },
          "execution_count": 11
        }
      ]
    },
    {
      "cell_type": "markdown",
      "metadata": {
        "id": "waefGj7CWD7s",
        "colab_type": "text"
      },
      "source": [
        "Esto confirma que los dos objetos están separados y no se relacionan a pesar de que el segundo objeto tiene los mismos atributos que el primero, son diferentes. Esto es importante porque en Python una clase no es solo el esquema usado para construir  un objeto. Más bien, la clase es un objeto vivo compartiso, al cual se accede en tiempo de ejecución.\n",
        "\n",
        "Como ya probamos, los atributos no se guardan en la clase, sino en cada ejemplificación, debido al hecho de que el método constructor trabaja sobre ```self``` cuando se crea el objeto. Las clases, sin embargo, pueden albergar atributos como cualquier otro objeto; con un gran esfuerzo de imaginación, llamémoslos **atributos de clase**.\n",
        "\n",
        "Como es posible predecir, los atributos de clase son compartidos por todas las ejemplificaciones."
      ]
    },
    {
      "cell_type": "code",
      "metadata": {
        "id": "TzPuy3Q8WB8P",
        "colab_type": "code",
        "colab": {}
      },
      "source": [
        "class Puerta:\n",
        "  color = 'Café'\n",
        "  \n",
        "  def __init__(self, numero, estado):\n",
        "    self.numero = numero\n",
        "    self.estado = estado\n",
        "  def abrir(self):\n",
        "    self.estado = 'Abierta'\n",
        "  def cerrar(self):\n",
        "    self.estado = 'Cerrada'"
      ],
      "execution_count": 0,
      "outputs": []
    },
    {
      "cell_type": "markdown",
      "metadata": {
        "id": "3_IAG3qPX3DV",
        "colab_type": "text"
      },
      "source": [
        "Prestar atención al atributo ```color``` ya que no está siendo creado usando ```self```, por lo que está contenido en la clase y compartido por los objetos."
      ]
    },
    {
      "cell_type": "code",
      "metadata": {
        "id": "S_mOdv1gX2Og",
        "colab_type": "code",
        "outputId": "d57271e8-fd68-4c62-f021-006e8850768e",
        "colab": {
          "base_uri": "https://localhost:8080/",
          "height": 34
        }
      },
      "source": [
        "puerta1 = Puerta(1, 'Cerrada')\n",
        "puerta2 = Puerta(2, 'Cerrada')\n",
        "\n",
        "Puerta.color"
      ],
      "execution_count": 0,
      "outputs": [
        {
          "output_type": "execute_result",
          "data": {
            "text/plain": [
              "'Café'"
            ]
          },
          "metadata": {
            "tags": []
          },
          "execution_count": 13
        }
      ]
    },
    {
      "cell_type": "code",
      "metadata": {
        "id": "vc4EAGinYQut",
        "colab_type": "code",
        "outputId": "7c7ec9d5-5b0e-4fd3-e5d8-c3836c920772",
        "colab": {
          "base_uri": "https://localhost:8080/",
          "height": 34
        }
      },
      "source": [
        "puerta1.color"
      ],
      "execution_count": 0,
      "outputs": [
        {
          "output_type": "execute_result",
          "data": {
            "text/plain": [
              "'Café'"
            ]
          },
          "metadata": {
            "tags": []
          },
          "execution_count": 14
        }
      ]
    },
    {
      "cell_type": "code",
      "metadata": {
        "id": "t1WrryGEYShH",
        "colab_type": "code",
        "outputId": "318dee0f-146d-40b2-c45b-c6a11c85e57c",
        "colab": {
          "base_uri": "https://localhost:8080/",
          "height": 34
        }
      },
      "source": [
        "puerta2.color"
      ],
      "execution_count": 0,
      "outputs": [
        {
          "output_type": "execute_result",
          "data": {
            "text/plain": [
              "'Café'"
            ]
          },
          "metadata": {
            "tags": []
          },
          "execution_count": 15
        }
      ]
    },
    {
      "cell_type": "markdown",
      "metadata": {
        "id": "f72ecdHtYXDy",
        "colab_type": "text"
      },
      "source": [
        "Hasta aquí no hay diferencias entre las puertas. Vamos a ver que pasa si se cambia el atributo en los objetos creados."
      ]
    },
    {
      "cell_type": "code",
      "metadata": {
        "id": "oEhJY3qaYUOs",
        "colab_type": "code",
        "outputId": "0cbea2b3-98f6-4abb-f186-3d1638b126d1",
        "colab": {
          "base_uri": "https://localhost:8080/",
          "height": 34
        }
      },
      "source": [
        "Puerta.color = \"Blanca\"\n",
        "Puerta.color"
      ],
      "execution_count": 0,
      "outputs": [
        {
          "output_type": "execute_result",
          "data": {
            "text/plain": [
              "'Blanca'"
            ]
          },
          "metadata": {
            "tags": []
          },
          "execution_count": 16
        }
      ]
    },
    {
      "cell_type": "code",
      "metadata": {
        "id": "iEeRRRbrYjX4",
        "colab_type": "code",
        "outputId": "a5a6f69f-b35f-44b8-fadd-1f7156c0019f",
        "colab": {
          "base_uri": "https://localhost:8080/",
          "height": 34
        }
      },
      "source": [
        "puerta1.color"
      ],
      "execution_count": 0,
      "outputs": [
        {
          "output_type": "execute_result",
          "data": {
            "text/plain": [
              "'Blanca'"
            ]
          },
          "metadata": {
            "tags": []
          },
          "execution_count": 17
        }
      ]
    },
    {
      "cell_type": "code",
      "metadata": {
        "id": "XlqezlvyYlZq",
        "colab_type": "code",
        "outputId": "b7a819c1-ea8b-44ea-9899-65a614368d99",
        "colab": {
          "base_uri": "https://localhost:8080/",
          "height": 34
        }
      },
      "source": [
        "puerta2.color"
      ],
      "execution_count": 0,
      "outputs": [
        {
          "output_type": "execute_result",
          "data": {
            "text/plain": [
              "'Blanca'"
            ]
          },
          "metadata": {
            "tags": []
          },
          "execution_count": 18
        }
      ]
    },
    {
      "cell_type": "code",
      "metadata": {
        "id": "-Vj4rxxGYuBq",
        "colab_type": "code",
        "outputId": "16d3796d-99ec-4d1d-eee4-5b049d8d639a",
        "colab": {
          "base_uri": "https://localhost:8080/",
          "height": 34
        }
      },
      "source": [
        "hex(id(Puerta.color))"
      ],
      "execution_count": 0,
      "outputs": [
        {
          "output_type": "execute_result",
          "data": {
            "text/plain": [
              "'0x7f603cd7dab0'"
            ]
          },
          "metadata": {
            "tags": []
          },
          "execution_count": 19
        }
      ]
    },
    {
      "cell_type": "code",
      "metadata": {
        "id": "SwRpTARNYxrZ",
        "colab_type": "code",
        "outputId": "1067e332-976a-46e4-e015-d9c95dc9477d",
        "colab": {
          "base_uri": "https://localhost:8080/",
          "height": 34
        }
      },
      "source": [
        "hex(id(puerta1.color))"
      ],
      "execution_count": 0,
      "outputs": [
        {
          "output_type": "execute_result",
          "data": {
            "text/plain": [
              "'0x7f603cd7dab0'"
            ]
          },
          "metadata": {
            "tags": []
          },
          "execution_count": 20
        }
      ]
    },
    {
      "cell_type": "code",
      "metadata": {
        "id": "oI8H7oi5Y19Q",
        "colab_type": "code",
        "outputId": "0830b421-d66c-4189-8bea-af506e8cb2e2",
        "colab": {
          "base_uri": "https://localhost:8080/",
          "height": 34
        }
      },
      "source": [
        "hex(id(puerta2.color))"
      ],
      "execution_count": 0,
      "outputs": [
        {
          "output_type": "execute_result",
          "data": {
            "text/plain": [
              "'0x7f603cd7dab0'"
            ]
          },
          "metadata": {
            "tags": []
          },
          "execution_count": 21
        }
      ]
    },
    {
      "cell_type": "markdown",
      "metadata": {
        "id": "JwKl1xLPn5wL",
        "colab_type": "text"
      },
      "source": [
        ""
      ]
    },
    {
      "cell_type": "markdown",
      "metadata": {
        "id": "JPF1kyscoFV6",
        "colab_type": "text"
      },
      "source": [
        "##Funciones\n",
        "---\n",
        "Una función es un bloque de código con un nombre asociado que recibe cero o más argumentos como entrada, sigue una secuencia de sentencias con las cuales ejecuta una operación deseada y devuelve un valor y/o realiza una tarea, este bloque puede ser llamado cuando se necesite.\n",
        "\n",
        "El uso de funciones es un componente muy importante del paradigma de la programación estructurada y tiene como ventajas:\n",
        "\n",
        "- <b>Modularización: </b> Permite segmentar un programa complicado en una serie de partes o módulos más símples, facilitando así la programación y el depurado.\n",
        "- <b>Reutilización: </b>Permite reutilizar una misma función en distintos programas.\n",
        "\n",
        "Python, al igual que la mayoría de lenguajes, dispone de una serie de funciones integradas al lenguaje y también permite crear funciones definidas por el usuario para ser usadas en sus porpios programas"
      ]
    },
    {
      "cell_type": "markdown",
      "metadata": {
        "id": "OAmarxtXNX8S",
        "colab_type": "text"
      },
      "source": [
        "###Sintaxis de funciones\n",
        "---\n",
        "En Python, para definir una función se utiliza la palabra reservada **def**.\n",
        "\n",
        "La manera de utilizar esta palabra es la siguiente:\n",
        "\n",
        "```\n",
        "def NOMBRE_DE_FUNCION(PARAMETROS):\n",
        "    SENTENCIAS\n",
        "    ...\n",
        "    RETURN VALOR\n",
        "\n",
        "```\n",
        "\n",
        "\n",
        "\n",
        "Al igual que en el resto de Python, hay que tener cuidado con la identación, ya que solo lo que esté en el siguiente nivel (y de los siguientes) el nombre de la función, hará parte de la función, al regresar al primer nivel respecto a la palabra def, es como si se cerrara la función con una llave \"}\".\n",
        "\n",
        "Otro aspecto a tomar en cuenta es que el retorno de un valor es opcional, dependiendo totalmente de lo que se necesite devolver, es decir, en caso de no querer devolver nada, o devolver un \"vacío\" o void, simplemente no se pone la sentencia return."
      ]
    },
    {
      "cell_type": "markdown",
      "metadata": {
        "id": "Xa0wWXMEUTFG",
        "colab_type": "text"
      },
      "source": [
        "Para el primer ejemplo, vamos a hacer una función que simplemente nos imprima una cadena de caracteres."
      ]
    },
    {
      "cell_type": "code",
      "metadata": {
        "id": "7kz44pLwUZm0",
        "colab_type": "code",
        "outputId": "842f95c4-b3e9-4428-8c68-1339c7a8237c",
        "colab": {
          "base_uri": "https://localhost:8080/",
          "height": 34
        }
      },
      "source": [
        "def mi_func():\n",
        "  print(\"hola\")\n",
        "  \n",
        "mi_func()"
      ],
      "execution_count": 0,
      "outputs": [
        {
          "output_type": "stream",
          "text": [
            "hola\n"
          ],
          "name": "stdout"
        }
      ]
    },
    {
      "cell_type": "markdown",
      "metadata": {
        "id": "xzBFfxR1VKfX",
        "colab_type": "text"
      },
      "source": [
        "Ahora, si quisieramos usar esa cadena de caracteres en otro lugar, no deberíamos hacer que se imprimiera directamente la cadena, sino hacer que la retorne, y luego usarla, para ello ponemos la sentencia return y el valor a retornar."
      ]
    },
    {
      "cell_type": "code",
      "metadata": {
        "id": "DSjyRJAuVjOO",
        "colab_type": "code",
        "outputId": "191a6f08-86e8-4b6d-992f-ad4b71ce5bce",
        "colab": {
          "base_uri": "https://localhost:8080/",
          "height": 34
        }
      },
      "source": [
        "def mi_func():\n",
        "  return \"hola\"\n",
        "\n",
        "print(mi_func())"
      ],
      "execution_count": 0,
      "outputs": [
        {
          "output_type": "stream",
          "text": [
            "hola\n"
          ],
          "name": "stdout"
        }
      ]
    },
    {
      "cell_type": "markdown",
      "metadata": {
        "id": "ONlQslLqWOKo",
        "colab_type": "text"
      },
      "source": [
        "Hasta ahora no hemos manejado los parámetros, pero son ellos los que nos permiten darle una entrada a la función y usarlos para realizar operaciones de manera <b>local para el método</b>, esto significa que las variables que se definen dentro de una función solo funcionan allí, si se intentara acceder a ellas, se obtendría un error, ya que no están definidas."
      ]
    },
    {
      "cell_type": "code",
      "metadata": {
        "id": "4oaX3T_5W-U4",
        "colab_type": "code",
        "outputId": "fafd3f2f-29a1-48c8-9a78-f98df19b4242",
        "colab": {
          "base_uri": "https://localhost:8080/",
          "height": 234
        }
      },
      "source": [
        "def mi_suma(a,b):\n",
        "  suma=a+b\n",
        "  print(suma)\n",
        "  \n",
        "mi_suma(5,4)\n",
        "print(suma)"
      ],
      "execution_count": 0,
      "outputs": [
        {
          "output_type": "stream",
          "text": [
            "9\n"
          ],
          "name": "stdout"
        },
        {
          "output_type": "error",
          "ename": "NameError",
          "evalue": "ignored",
          "traceback": [
            "\u001b[0;31m---------------------------------------------------------------------------\u001b[0m",
            "\u001b[0;31mNameError\u001b[0m                                 Traceback (most recent call last)",
            "\u001b[0;32m<ipython-input-8-e5b840996b89>\u001b[0m in \u001b[0;36m<module>\u001b[0;34m()\u001b[0m\n\u001b[1;32m      4\u001b[0m \u001b[0;34m\u001b[0m\u001b[0m\n\u001b[1;32m      5\u001b[0m \u001b[0mmi_suma\u001b[0m\u001b[0;34m(\u001b[0m\u001b[0;36m5\u001b[0m\u001b[0;34m,\u001b[0m\u001b[0;36m4\u001b[0m\u001b[0;34m)\u001b[0m\u001b[0;34m\u001b[0m\u001b[0;34m\u001b[0m\u001b[0m\n\u001b[0;32m----> 6\u001b[0;31m \u001b[0mprint\u001b[0m\u001b[0;34m(\u001b[0m\u001b[0msuma\u001b[0m\u001b[0;34m)\u001b[0m\u001b[0;34m\u001b[0m\u001b[0;34m\u001b[0m\u001b[0m\n\u001b[0m",
            "\u001b[0;31mNameError\u001b[0m: name 'suma' is not defined"
          ]
        }
      ]
    },
    {
      "cell_type": "markdown",
      "metadata": {
        "id": "Cz1N-mhZYejx",
        "colab_type": "text"
      },
      "source": [
        "Python nos permite evitar algunos errores que ocurren cuando al usar la función no se ponen los parámetros, es decir, cuando se omite un parámetro usando valores por defecto que pueden tener estos parámetros, tal como se puede observar en el siguiente caso"
      ]
    },
    {
      "cell_type": "code",
      "metadata": {
        "id": "GBiaYM3_YMH8",
        "colab_type": "code",
        "outputId": "43853d55-7fe5-4611-825e-58b9d459b103",
        "colab": {
          "base_uri": "https://localhost:8080/",
          "height": 85
        }
      },
      "source": [
        "def resta(a=30,b=10):\n",
        "  return a-b\n",
        "print(resta(10,9))\n",
        "print(resta(0,))\n",
        "print(resta(b=15))\n",
        "print(resta())"
      ],
      "execution_count": 0,
      "outputs": [
        {
          "output_type": "stream",
          "text": [
            "1\n",
            "-10\n",
            "15\n",
            "20\n"
          ],
          "name": "stdout"
        }
      ]
    },
    {
      "cell_type": "markdown",
      "metadata": {
        "id": "8Blo77lpZjHD",
        "colab_type": "text"
      },
      "source": [
        "Esto, nos permite crear mecanismos de control para los parámetros que son necesarios, por ejemplo, así:"
      ]
    },
    {
      "cell_type": "code",
      "metadata": {
        "id": "68VkyUu2Zqa6",
        "colab_type": "code",
        "outputId": "b37a3601-eef8-4db3-8ef7-1779ff9904b3",
        "colab": {
          "base_uri": "https://localhost:8080/",
          "height": 51
        }
      },
      "source": [
        "def resta(a=None,b=None):\n",
        "  if a==None or b==None:\n",
        "    return \"No hay suficientes parámetros\"\n",
        "  else:\n",
        "    return a-b\n",
        "\n",
        "print(resta(20,8))\n",
        "print(resta())"
      ],
      "execution_count": 0,
      "outputs": [
        {
          "output_type": "stream",
          "text": [
            "12\n",
            "No hay suficientes parámetros\n"
          ],
          "name": "stdout"
        }
      ]
    },
    {
      "cell_type": "markdown",
      "metadata": {
        "id": "H_kHRPFTrMNS",
        "colab_type": "text"
      },
      "source": [
        "# Tarea\n",
        "\n",
        "\n",
        "\n",
        "1.   Leer \n",
        "2.   Elemento de lista\n",
        "\n"
      ]
    }
  ]
}