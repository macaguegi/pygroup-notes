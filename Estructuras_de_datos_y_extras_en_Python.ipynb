{
  "nbformat": 4,
  "nbformat_minor": 0,
  "metadata": {
    "colab": {
      "name": "Estructuras de datos y extras en Python",
      "version": "0.3.2",
      "provenance": [],
      "include_colab_link": true
    },
    "kernelspec": {
      "name": "python3",
      "display_name": "Python 3"
    }
  },
  "cells": [
    {
      "cell_type": "markdown",
      "metadata": {
        "id": "view-in-github",
        "colab_type": "text"
      },
      "source": [
        "<a href=\"https://colab.research.google.com/github/macaguegi/pygroup-notes/blob/master/Estructuras_de_datos_y_extras_en_Python.ipynb\" target=\"_parent\"><img src=\"https://colab.research.google.com/assets/colab-badge.svg\" alt=\"Open In Colab\"/></a>"
      ]
    },
    {
      "cell_type": "markdown",
      "metadata": {
        "id": "GG5XDTiXqSkl",
        "colab_type": "text"
      },
      "source": [
        "#Estructuras de datos en Python\n",
        "---\n",
        "El manejo de datos para un desarrollador es una parte fundamental que debe tener en cuenta en sus diseños de soluciones, y para ello los lenguajes ofrecen un conjunto de estructuras predefinidas que facilitan el manejo de datos agrupados y contextualizados aptos para ciertas situaciones."
      ]
    },
    {
      "cell_type": "code",
      "metadata": {
        "id": "bZmz33JVC20Z",
        "colab_type": "code",
        "outputId": "ae92952b-70da-4cc7-bdc5-7564b6375ef1",
        "colab": {
          "base_uri": "https://localhost:8080/",
          "height": 156
        }
      },
      "source": [
        "###Programa de clasificación de edades\n",
        "numPersonas = 0\n",
        "numPersonas = int(input(\"Ingrese el número de personas a procesar\\n\"))\n",
        "for persona in range(numPersonas):\n",
        "  nombre = input(\"Ingrese el nombre de la persona a procesar \")\n",
        "  edad = int(input(f\"Ingrese la edad de {nombre} \"))\n",
        "  if(edad<18):\n",
        "    print(f\"{nombre} es menor de edad\")\n",
        "  else:\n",
        "    print(f\"{nombre} es mayor de edad\")\n"
      ],
      "execution_count": 0,
      "outputs": [
        {
          "output_type": "stream",
          "text": [
            "Ingrese el número de personas a procesar\n",
            "2\n",
            "Ingrese el nombre de la persona a procesar Javier\n",
            "Ingrese la edad de Javier 2\n",
            "Javier es menor de edad\n",
            "Ingrese el nombre de la persona a procesar Camila\n",
            "Ingrese la edad de Camila 18\n",
            "Camila es menor de edad\n"
          ],
          "name": "stdout"
        }
      ]
    },
    {
      "cell_type": "markdown",
      "metadata": {
        "id": "9_dMY1fhFOxH",
        "colab_type": "text"
      },
      "source": [
        "En este programa la ejecución sigue una secuencia lógica. Sin embargo, ¿qué sucedería si se quisiera guardar el dato de cada persona en una estructura en particular?"
      ]
    },
    {
      "cell_type": "markdown",
      "metadata": {
        "id": "tueNnZyfG8sm",
        "colab_type": "text"
      },
      "source": [
        "##Profundización en los tipos básicos en Python\n",
        "---\n",
        "###Notación científica\n",
        "Una interesante característica del lenguaje es su capacidad de aceptar números escritos en formato decimal, por ejemplo:"
      ]
    },
    {
      "cell_type": "code",
      "metadata": {
        "id": "SRmDNc5iL90O",
        "colab_type": "code",
        "outputId": "dbcb9b5c-5ee8-465d-cafb-8360c433ada8",
        "colab": {
          "base_uri": "https://localhost:8080/",
          "height": 69
        }
      },
      "source": [
        "c = 0.0004\n",
        "d = 4e-4\n",
        "print(c)\n",
        "print(d)\n",
        "print(c == d)"
      ],
      "execution_count": 0,
      "outputs": [
        {
          "output_type": "stream",
          "text": [
            "0.0004\n",
            "0.0004\n",
            "True\n"
          ],
          "name": "stdout"
        }
      ]
    },
    {
      "cell_type": "markdown",
      "metadata": {
        "id": "LW3z4HbxMnRU",
        "colab_type": "text"
      },
      "source": [
        "###Números complejos\n",
        "Otro tipo básico que ofrece el lenguaje es el del número complejo. Cabe mencionar que un número complejo es aquel que se compone de una parte real y otra parte imaginaria. Por ejemplo, el número complejo $2+5i$ tiene parte real $2$ y parte imaginaria $5$. Dentro de las operaciones que se pueden realizar con los números complejos está:\n",
        "\n",
        "*   Suma: Se realiza sumando la parte real y la parte imaginaria de cada número. Por ejemplo $(2+5i)+(3-10i) =(2+3)+(5-10)i=5-5i $"
      ]
    },
    {
      "cell_type": "code",
      "metadata": {
        "id": "Khvd_PWKJejv",
        "colab_type": "code",
        "colab": {}
      },
      "source": [
        "#Para crear números complejos, se pueden expresar de forma directa\n",
        "c1 = 2 + 5j\n",
        "c2 = 3 - 10j\n",
        "c3 = 1 + 1j\n",
        "c4 = 1 - 1j\n",
        "\n",
        "#O se pueden crear a través del método complex. \n",
        "#Por ejemplo complex(2,1) es equivalente a 2+1j\n",
        "c5 = complex(2,1)\n",
        "c6 = complex(5,6)\n",
        "c7 = 2 + 3j"
      ],
      "execution_count": 0,
      "outputs": []
    },
    {
      "cell_type": "code",
      "metadata": {
        "id": "V7zXIJkqKFc7",
        "colab_type": "code",
        "outputId": "cd1107e5-b2b8-4769-e681-9432c72bcaed",
        "colab": {
          "base_uri": "https://localhost:8080/",
          "height": 34
        }
      },
      "source": [
        "#Vamos a verificar el tipo\n",
        "print(type(c1))"
      ],
      "execution_count": 0,
      "outputs": [
        {
          "output_type": "stream",
          "text": [
            "<class 'complex'>\n"
          ],
          "name": "stdout"
        }
      ]
    },
    {
      "cell_type": "code",
      "metadata": {
        "id": "Goqp4W5FKWo3",
        "colab_type": "code",
        "outputId": "d287949f-561d-4a53-9fca-70128f612570",
        "colab": {
          "base_uri": "https://localhost:8080/",
          "height": 34
        }
      },
      "source": [
        "#Ahora si, una suma, la del ejemplo sería\n",
        "\n",
        "print(f\"La suma de {c1} y {c2} es\",c1+c2)"
      ],
      "execution_count": 0,
      "outputs": [
        {
          "output_type": "stream",
          "text": [
            "La suma de (2+5j) y (3-10j) es (5-5j)\n"
          ],
          "name": "stdout"
        }
      ]
    },
    {
      "cell_type": "markdown",
      "metadata": {
        "id": "AzH0vws5KqTb",
        "colab_type": "text"
      },
      "source": [
        "*   Resta: El mismo procedimiento pero sumando el inverso aditivo del segundo número. Por ejemplo: $(1+i)-(1-i)=(1+i)+(-1+i)=(1-1)+(1+1)i=(0+2i)=2i$"
      ]
    },
    {
      "cell_type": "code",
      "metadata": {
        "id": "Xuhu_xPDKw3X",
        "colab_type": "code",
        "outputId": "7cc37970-ca8c-4756-a3a3-ba767f8f6368",
        "colab": {
          "base_uri": "https://localhost:8080/",
          "height": 34
        }
      },
      "source": [
        "print(f\"La resta de {c3} y {c4} es \",c3-c4)"
      ],
      "execution_count": 0,
      "outputs": [
        {
          "output_type": "stream",
          "text": [
            "La resta de (1+1j) y (1-1j) es  2j\n"
          ],
          "name": "stdout"
        }
      ]
    },
    {
      "cell_type": "markdown",
      "metadata": {
        "id": "5BNwkPiLK7yl",
        "colab_type": "text"
      },
      "source": [
        "*   Multiplicación: Se realiza aplicando la propiedad distributiva del producto respecto a la suma y teniendo en cuenta que $i^2=-1$, luego: $ (a+bi)*(c+di) = (ac-bd) +(ad+bc)i$. \n",
        "Por ejemplo: \n",
        "$$\n",
        "(2+i)*(5+6i)=(2*5)+(2*6i)+(i*5)+(i*6i)=10+12i+5i-6=4+17i\n",
        "$$"
      ]
    },
    {
      "cell_type": "code",
      "metadata": {
        "id": "2ltnPDwuLIky",
        "colab_type": "code",
        "outputId": "ec3590f4-b1bb-4898-b19e-57c3c8166c5c",
        "colab": {
          "base_uri": "https://localhost:8080/",
          "height": 34
        }
      },
      "source": [
        "c8 = 2 + 1j\n",
        "c9 = 5 + 6j\n",
        "print(f\"La multiplicación entre {c8} y {c9} es\",c8*c9)"
      ],
      "execution_count": 0,
      "outputs": [
        {
          "output_type": "stream",
          "text": [
            "La multiplicación entre (2+1j) y (5+6j) es (4+17j)\n"
          ],
          "name": "stdout"
        }
      ]
    },
    {
      "cell_type": "markdown",
      "metadata": {
        "id": "Sae4ROXgLj-m",
        "colab_type": "text"
      },
      "source": [
        "*  Conjugado: El conjugado de un número complejo es aquel cuyo signo de la parte imaginaria es el opuesto al original. Se denota por una línea sobre el número. Por ejemplo, el conjugado de $2+3i$ es $\\overline{2+3i}=2-3i$\n"
      ]
    },
    {
      "cell_type": "code",
      "metadata": {
        "id": "-GNMwMskLm52",
        "colab_type": "code",
        "outputId": "ee79c3e8-d696-4001-d47c-93ed2cf07cd5",
        "colab": {
          "base_uri": "https://localhost:8080/",
          "height": 34
        }
      },
      "source": [
        "#El conjugado en Python se puede realizar usando la función conjugate()\n",
        "print(\"El conjugado de {c7} es\",c7.conjugate())"
      ],
      "execution_count": 0,
      "outputs": [
        {
          "output_type": "stream",
          "text": [
            "El conjugado de {c7} es (2-3j)\n"
          ],
          "name": "stdout"
        }
      ]
    },
    {
      "cell_type": "markdown",
      "metadata": {
        "id": "4jg-iYz5L3dJ",
        "colab_type": "text"
      },
      "source": [
        "*  División: La división de un número complejo se realiza multiplicando numerador y denominador por el conjugado de este: \n",
        "$$\n",
        "\\frac{a+bi}{c+di}=\\frac{(a+bi)(c-di)}{(c+di)(c-di)}\n",
        "$$\n",
        "Por ejemplo, la división de $(1+i)$ entre $(1+i)$ es:\n",
        "$$\n",
        "\\frac{(1+i)(1-i)}{(1+i)(1-i)}=\\frac{1-i+i+1}{1-i+i+1}=\\frac{2}{2}=1\n",
        "$$"
      ]
    },
    {
      "cell_type": "code",
      "metadata": {
        "id": "MNj3W3onL45a",
        "colab_type": "code",
        "outputId": "439409d2-4bd6-4005-bb05-48fa8dffa032",
        "colab": {
          "base_uri": "https://localhost:8080/",
          "height": 34
        }
      },
      "source": [
        "print(f\"La división entre {c3} y {c3} es\",c3/c3)"
      ],
      "execution_count": 0,
      "outputs": [
        {
          "output_type": "stream",
          "text": [
            "La división entre (1+1j) y (1+1j) es (1+0j)\n"
          ],
          "name": "stdout"
        }
      ]
    },
    {
      "cell_type": "markdown",
      "metadata": {
        "id": "h17_6La8MhvT",
        "colab_type": "text"
      },
      "source": [
        "##Estructuras de datos\n",
        "---\n",
        "En la primera sesión se introdujeron tipos de datos de los más comunes usados en el ámbito de la programación: números (en cada una de sus formas), cadenas y booleanos. Sin embargo, ¿Qué hacer cuando se necesita algo más complicado, como por ejemplo una lista de compras, un índice de capítulos o un conjunto de números? Es aquí donde entra en juego nuevas estructuras de datos un poco mas complejas y completas que ofrece el lenguaje Python.\n",
        "\n",
        "Algunas de estas estructuras de datos son:\n",
        "1.  Listas\n",
        "2.  Tuplas\n",
        "3.  Conjuntos\n",
        "4.  Diccionarios\n"
      ]
    },
    {
      "cell_type": "markdown",
      "metadata": {
        "id": "g6A9w57bM9oB",
        "colab_type": "text"
      },
      "source": [
        "###Listas\n",
        "Una lista es una estructura de datos y un tipo de datos en Python muy especial. Su característica principal es que permite almacenar cualquier tipo de valor como enteros, cadenas y hasta funciones.\n",
        "![](https://s3-us-west-2.amazonaws.com/devcodepro/media/tutorials/listas-python-t1.jpg)"
      ]
    },
    {
      "cell_type": "markdown",
      "metadata": {
        "id": "WIyPfNnMOREr",
        "colab_type": "text"
      },
      "source": [
        "Esto es un ejemplo de una lista:\n",
        "```python\n",
        "lista = [0, 1, 2, \"tres\", [4.1, 4.2], 5]\n",
        "```\n",
        "En la línea anterior se usaron cuatro tipos de datos, enteros, cadenas, listas y flotantes. Una lista es un arreglo de elementos donde se puede ingresar cualquier tipo de dato. Para acceder a estos datos se utiliza un índice."
      ]
    },
    {
      "cell_type": "code",
      "metadata": {
        "id": "K61FcwjKOt-b",
        "colab_type": "code",
        "outputId": "b3bb28ec-9d95-45f5-b2fb-9fc67dffa07e",
        "colab": {
          "base_uri": "https://localhost:8080/",
          "height": 141
        }
      },
      "source": [
        "lista = [0, 1, 2, \"tres\", [4.1, 4.2], 5]\n",
        "print(type(lista))\n",
        "print(lista[0])\n",
        "print(lista[1])\n",
        "print(lista[2])\n",
        "print(lista[3])\n",
        "print(lista[4])\n",
        "print(lista[5])"
      ],
      "execution_count": 0,
      "outputs": [
        {
          "output_type": "stream",
          "text": [
            "<class 'list'>\n",
            "0\n",
            "1\n",
            "2\n",
            "tres\n",
            "[4.1, 4.2]\n",
            "5\n"
          ],
          "name": "stdout"
        }
      ]
    },
    {
      "cell_type": "markdown",
      "metadata": {
        "id": "pNJXW6RDPiP1",
        "colab_type": "text"
      },
      "source": [
        "Ahora, vamos a imprimir los elementos de la lista pero haciendo un recorrido a través de un ciclo."
      ]
    },
    {
      "cell_type": "code",
      "metadata": {
        "id": "6pTID26VPumF",
        "colab_type": "code",
        "outputId": "9b9d9661-7f94-4446-9c69-59f002ff66e2",
        "colab": {
          "base_uri": "https://localhost:8080/",
          "height": 123
        }
      },
      "source": [
        "for elemento in lista:\n",
        "  print(elemento)"
      ],
      "execution_count": 0,
      "outputs": [
        {
          "output_type": "stream",
          "text": [
            "0\n",
            "1\n",
            "2\n",
            "tres\n",
            "[4.1, 4.2]\n",
            "5\n"
          ],
          "name": "stdout"
        }
      ]
    },
    {
      "cell_type": "markdown",
      "metadata": {
        "id": "w1VKXXoNP730",
        "colab_type": "text"
      },
      "source": [
        "Una lista, como objeto, tiene una serie de métodos. Entre los que se encuentran:\n",
        "*  ```append()```: Este método permite agregar nuevos elementos **al final de una lista**."
      ]
    },
    {
      "cell_type": "code",
      "metadata": {
        "id": "KUgcCd1UQQyl",
        "colab_type": "code",
        "outputId": "c2a8ea71-4f8e-498d-e44c-e7112c68115d",
        "colab": {
          "base_uri": "https://localhost:8080/",
          "height": 52
        }
      },
      "source": [
        "lista.append(6)\n",
        "print(lista)\n",
        "lista.append([7.1, 7.2])\n",
        "print(lista)"
      ],
      "execution_count": 0,
      "outputs": [
        {
          "output_type": "stream",
          "text": [
            "[0, 1, 2, 'tres', [4.1, 4.2], 5, 6]\n",
            "[0, 1, 2, 'tres', [4.1, 4.2], 5, 6, [7.1, 7.2]]\n"
          ],
          "name": "stdout"
        }
      ]
    },
    {
      "cell_type": "markdown",
      "metadata": {
        "id": "N_ZWWKBEQwZm",
        "colab_type": "text"
      },
      "source": [
        "*  ```insert(i,x)```: Inserta un elemento *x* en la posición *i*."
      ]
    },
    {
      "cell_type": "code",
      "metadata": {
        "id": "bVsFmi0nQ9iD",
        "colab_type": "code",
        "outputId": "08d8f0e6-f875-4116-fa52-8fb450f99cad",
        "colab": {
          "base_uri": "https://localhost:8080/",
          "height": 34
        }
      },
      "source": [
        "lista.insert(8, \"Ocho\")\n",
        "print(lista)"
      ],
      "execution_count": 0,
      "outputs": [
        {
          "output_type": "stream",
          "text": [
            "[0, 1, 2, 'tres', [4.1, 4.2], 5, 6, [7.1, 7.2], 'Ocho']\n"
          ],
          "name": "stdout"
        }
      ]
    },
    {
      "cell_type": "markdown",
      "metadata": {
        "id": "LnYjSL5jRo-I",
        "colab_type": "text"
      },
      "source": [
        "*  ```extend()```: También permite agregar elementos dentro de una lista, sin embargo, a diferencia de append, al momento de agregar un elemento lista, cada elemento de esa lista se agrega como un elemento más dentro de la otra lista."
      ]
    },
    {
      "cell_type": "code",
      "metadata": {
        "id": "xsIWMdi0Ryin",
        "colab_type": "code",
        "outputId": "d5401570-30d0-419d-a924-fa9e4ed2ff1a",
        "colab": {
          "base_uri": "https://localhost:8080/",
          "height": 34
        }
      },
      "source": [
        "lista.extend([9,10])\n",
        "print(lista)"
      ],
      "execution_count": 0,
      "outputs": [
        {
          "output_type": "stream",
          "text": [
            "[0, 1, 2, 'tres', [4.1, 4.2], 5, 6, [7.1, 7.2], 'Ocho', 9, 10]\n"
          ],
          "name": "stdout"
        }
      ]
    },
    {
      "cell_type": "markdown",
      "metadata": {
        "id": "Gj-d0X0pR8Kv",
        "colab_type": "text"
      },
      "source": [
        "*  ```remove()```: Elimina la primer coincidencia del primer elemento que se pase como argumento."
      ]
    },
    {
      "cell_type": "code",
      "metadata": {
        "id": "hQs5td0pSMTs",
        "colab_type": "code",
        "outputId": "1288f9dd-95c2-4c3b-ba7d-5f55b731e583",
        "colab": {
          "base_uri": "https://localhost:8080/",
          "height": 34
        }
      },
      "source": [
        "lista.remove(10)\n",
        "print(lista)"
      ],
      "execution_count": 0,
      "outputs": [
        {
          "output_type": "stream",
          "text": [
            "[0, 1, 2, 'tres', [4.1, 4.2], 5, 6, [7.1, 7.2], 'Ocho', 9]\n"
          ],
          "name": "stdout"
        }
      ]
    },
    {
      "cell_type": "code",
      "metadata": {
        "id": "JPW9jpN5STpR",
        "colab_type": "code",
        "outputId": "8698e8ca-3a1c-4d95-fcbc-6d07faf5f7da",
        "colab": {
          "base_uri": "https://localhost:8080/",
          "height": 34
        }
      },
      "source": [
        "lista.remove('Ocho')\n",
        "print(lista)"
      ],
      "execution_count": 0,
      "outputs": [
        {
          "output_type": "stream",
          "text": [
            "[0, 1, 2, 'tres', [4.1, 4.2], 5, 6, [7.1, 7.2], 9]\n"
          ],
          "name": "stdout"
        }
      ]
    },
    {
      "cell_type": "markdown",
      "metadata": {
        "id": "xCsCNkLMShRC",
        "colab_type": "text"
      },
      "source": [
        "*  ```index()```: Devuelve el número índice del elemento que se introduzca como parámetro."
      ]
    },
    {
      "cell_type": "code",
      "metadata": {
        "id": "xMbOmMz6Sscv",
        "colab_type": "code",
        "outputId": "f739b185-343f-4f02-a335-84c27da5165f",
        "colab": {
          "base_uri": "https://localhost:8080/",
          "height": 34
        }
      },
      "source": [
        "print(lista.index('tres'))"
      ],
      "execution_count": 0,
      "outputs": [
        {
          "output_type": "stream",
          "text": [
            "3\n"
          ],
          "name": "stdout"
        }
      ]
    },
    {
      "cell_type": "markdown",
      "metadata": {
        "id": "yFGoVLqWTh0s",
        "colab_type": "text"
      },
      "source": [
        "*  ```count()```:Permite conocer cuantas veces se encuentra un elemento en la lista. "
      ]
    },
    {
      "cell_type": "code",
      "metadata": {
        "id": "Yw5YLv1aTp57",
        "colab_type": "code",
        "outputId": "907a0e10-5719-477a-8b82-196636725961",
        "colab": {
          "base_uri": "https://localhost:8080/",
          "height": 52
        }
      },
      "source": [
        "lista.append(5)\n",
        "print(lista)\n",
        "lista.count(5)"
      ],
      "execution_count": 0,
      "outputs": [
        {
          "output_type": "stream",
          "text": [
            "[0, 1, 2, 'tres', [4.1, 4.2], 5, 6, [7.1, 7.2], 9, 5]\n"
          ],
          "name": "stdout"
        },
        {
          "output_type": "execute_result",
          "data": {
            "text/plain": [
              "2"
            ]
          },
          "metadata": {
            "tags": []
          },
          "execution_count": 38
        }
      ]
    },
    {
      "cell_type": "markdown",
      "metadata": {
        "id": "XWwRU7i6T2w4",
        "colab_type": "text"
      },
      "source": [
        "*  ```reverse()```: Invierte los elementos de una lista."
      ]
    },
    {
      "cell_type": "code",
      "metadata": {
        "id": "Sd_YgD4qT2Bf",
        "colab_type": "code",
        "outputId": "bb417985-3d3a-42ea-c8ad-f68dd34f9011",
        "colab": {
          "base_uri": "https://localhost:8080/",
          "height": 34
        }
      },
      "source": [
        "lista.reverse()\n",
        "print(lista)"
      ],
      "execution_count": 0,
      "outputs": [
        {
          "output_type": "stream",
          "text": [
            "[5, 9, [7.1, 7.2], 6, 5, [4.1, 4.2], 'tres', 2, 1, 0]\n"
          ],
          "name": "stdout"
        }
      ]
    },
    {
      "cell_type": "markdown",
      "metadata": {
        "id": "B5E3loWoUOrz",
        "colab_type": "text"
      },
      "source": [
        "*  ```copy()```: Retorna una copia de la lista"
      ]
    },
    {
      "cell_type": "code",
      "metadata": {
        "id": "PtNxykqBUT7j",
        "colab_type": "code",
        "outputId": "220b0a5c-c61d-47df-c791-5b47a5372276",
        "colab": {
          "base_uri": "https://localhost:8080/",
          "height": 34
        }
      },
      "source": [
        "segundaLista = lista.copy()\n",
        "print(segundaLista)"
      ],
      "execution_count": 0,
      "outputs": [
        {
          "output_type": "stream",
          "text": [
            "[5, 9, [7.1, 7.2], 6, 5, [4.1, 4.2], 'tres', 2, 1, 0]\n"
          ],
          "name": "stdout"
        }
      ]
    },
    {
      "cell_type": "markdown",
      "metadata": {
        "id": "U_8KRVPYUHrx",
        "colab_type": "text"
      },
      "source": [
        "*  ```clear()```: Elimina todos los elementos de la lista "
      ]
    },
    {
      "cell_type": "code",
      "metadata": {
        "id": "bHixal7GUaGt",
        "colab_type": "code",
        "outputId": "a3c62e14-3a1e-4d56-e629-6ca025c6b2ed",
        "colab": {
          "base_uri": "https://localhost:8080/",
          "height": 34
        }
      },
      "source": [
        "lista.clear()\n",
        "print(lista)"
      ],
      "execution_count": 0,
      "outputs": [
        {
          "output_type": "stream",
          "text": [
            "[]\n"
          ],
          "name": "stdout"
        }
      ]
    },
    {
      "cell_type": "markdown",
      "metadata": {
        "id": "EyWBE24cU4RQ",
        "colab_type": "text"
      },
      "source": [
        "####Pilas\n",
        "Una pila es una estructura de datos caracterizada por que solo es posible insertar elementos a la cima (apilar/ append) o eliminar elementos de la cima (eliminar/ pop). En la vida real se utilizan mucho las pilas, por ejemplo, una pila de libros en la biblioteca o una pila de platos en una cocina.\n",
        "![](https://upload.wikimedia.org/wikipedia/commons/thumb/d/d1/Pila.svg/1200px-Pila.svg.png)\n",
        "\n",
        "Es posible usar las listas como pilas gracias a la posibilidad que brindan las funciones de append() (agregar elementos a la cima) y pop() (retirar elementos de la cima).\n"
      ]
    },
    {
      "cell_type": "code",
      "metadata": {
        "id": "WVmKpM7HVQan",
        "colab_type": "code",
        "outputId": "a1a8ce3e-ceff-4cdf-d0bf-12a27806a892",
        "colab": {
          "base_uri": "https://localhost:8080/",
          "height": 52
        }
      },
      "source": [
        "miPila = [3, 4, 5]\n",
        "print(miPila)\n",
        "miPila.append(6)\n",
        "miPila.append(7)\n",
        "print(miPila)"
      ],
      "execution_count": 0,
      "outputs": [
        {
          "output_type": "stream",
          "text": [
            "[3, 4, 5]\n",
            "[3, 4, 5, 6, 7]\n"
          ],
          "name": "stdout"
        }
      ]
    },
    {
      "cell_type": "code",
      "metadata": {
        "id": "AyU_93YeVhS1",
        "colab_type": "code",
        "outputId": "5199d6cb-fb21-4b38-b03f-1d0aac59e4d7",
        "colab": {
          "base_uri": "https://localhost:8080/",
          "height": 70
        }
      },
      "source": [
        "print(miPila.pop())\n",
        "print(miPila.pop())\n",
        "print(miPila.pop())\n"
      ],
      "execution_count": 0,
      "outputs": [
        {
          "output_type": "stream",
          "text": [
            "7\n",
            "6\n",
            "5\n"
          ],
          "name": "stdout"
        }
      ]
    },
    {
      "cell_type": "code",
      "metadata": {
        "id": "trwVxO0pVrwC",
        "colab_type": "code",
        "outputId": "74b5b2b2-d865-446f-9b8b-97d96ed52bb9",
        "colab": {
          "base_uri": "https://localhost:8080/",
          "height": 34
        }
      },
      "source": [
        "print(miPila)"
      ],
      "execution_count": 0,
      "outputs": [
        {
          "output_type": "stream",
          "text": [
            "[3, 4]\n"
          ],
          "name": "stdout"
        }
      ]
    },
    {
      "cell_type": "markdown",
      "metadata": {
        "id": "vFD-VU2bWCiN",
        "colab_type": "text"
      },
      "source": [
        "####Listas por compresión\n",
        "Las listas por comprensión ofrecen una manera clara de crear listas. Dentro de los usos comunes está el de hacer nuevas listas donde cada elemento es el resultado de algunas operaciones aplicadas a cada miembro de otra secuencia, o para crear una sub-lista de esos elementos para satisfacer una condición determinada. Por ejemplo, si queremos crear una lista de cubos se puede hacer esto:"
      ]
    },
    {
      "cell_type": "code",
      "metadata": {
        "id": "iDC7eTjKWPE4",
        "colab_type": "code",
        "outputId": "100926ac-abf3-45b2-b80f-544a1bed58ea",
        "colab": {
          "base_uri": "https://localhost:8080/",
          "height": 34
        }
      },
      "source": [
        "cubos = []\n",
        "for x in range(5):\n",
        "  cubos.append(x**3)\n",
        "print(cubos)"
      ],
      "execution_count": 0,
      "outputs": [
        {
          "output_type": "stream",
          "text": [
            "[0, 1, 8, 27, 64]\n"
          ],
          "name": "stdout"
        }
      ]
    },
    {
      "cell_type": "markdown",
      "metadata": {
        "id": "c814InCHWagL",
        "colab_type": "text"
      },
      "source": [
        "Notar que esto sobre-escribe una variable x que sigue existiendo una vez el bucle termina. Aquí está la prueba"
      ]
    },
    {
      "cell_type": "code",
      "metadata": {
        "id": "fD81ty5QWgZ9",
        "colab_type": "code",
        "outputId": "17b7cc2e-f836-43ac-b31c-febe61d25e6c",
        "colab": {
          "base_uri": "https://localhost:8080/",
          "height": 34
        }
      },
      "source": [
        "print(x)"
      ],
      "execution_count": 0,
      "outputs": [
        {
          "output_type": "stream",
          "text": [
            "4\n"
          ],
          "name": "stdout"
        }
      ]
    },
    {
      "cell_type": "markdown",
      "metadata": {
        "id": "UC4HgeS6WjKn",
        "colab_type": "text"
      },
      "source": [
        "Usando una lista por comprensión se puede hacer"
      ]
    },
    {
      "cell_type": "code",
      "metadata": {
        "id": "cjS8yEkNWlt2",
        "colab_type": "code",
        "outputId": "30e5f387-97fb-4df4-8f07-69640f5efb25",
        "colab": {
          "base_uri": "https://localhost:8080/",
          "height": 34
        }
      },
      "source": [
        "cubosLC = [x ** 3 for x in range(5)]\n",
        "print(cubosLC)"
      ],
      "execution_count": 0,
      "outputs": [
        {
          "output_type": "stream",
          "text": [
            "[0, 1, 8, 27, 64]\n"
          ],
          "name": "stdout"
        }
      ]
    },
    {
      "cell_type": "markdown",
      "metadata": {
        "id": "9QXX89nFW19d",
        "colab_type": "text"
      },
      "source": [
        "Una lista por comprensión consiste en corchetes rodeando una expresión seguida de una declaración for y luego cero o más declaraciones for o if. El resultado es una nueva lista que sale de evaluar la expresión en el contexto de los for o if que le siguen. Miremos otro ejemplo: Necesitamos una lista que duplique los valores de una lista previa."
      ]
    },
    {
      "cell_type": "code",
      "metadata": {
        "id": "KcZR7guxXRHk",
        "colab_type": "code",
        "outputId": "d8ccfc4d-f93d-42be-8a28-bb8c77bea4ab",
        "colab": {
          "base_uri": "https://localhost:8080/",
          "height": 34
        }
      },
      "source": [
        "original = [-3, -2, -1, 0, 1, 2, 3]\n",
        "doble = [elementos * 2 for elementos in original]\n",
        "print(doble)"
      ],
      "execution_count": 0,
      "outputs": [
        {
          "output_type": "stream",
          "text": [
            "[-6, -4, -2, 0, 2, 4, 6]\n"
          ],
          "name": "stdout"
        }
      ]
    },
    {
      "cell_type": "markdown",
      "metadata": {
        "id": "Flzpf_S_XjBG",
        "colab_type": "text"
      },
      "source": [
        "Ahora utilicemos un condicional. Por ejemplo, vamos a filtrar los números negativos de la lista original"
      ]
    },
    {
      "cell_type": "code",
      "metadata": {
        "id": "Dtp8jjKCXh7I",
        "colab_type": "code",
        "outputId": "1a2cc6fa-3799-42f4-d894-112771d0cd17",
        "colab": {
          "base_uri": "https://localhost:8080/",
          "height": 34
        }
      },
      "source": [
        "negativos = [x for x in original if x < 0]\n",
        "print(negativos)"
      ],
      "execution_count": 0,
      "outputs": [
        {
          "output_type": "stream",
          "text": [
            "[-3, -2, -1]\n"
          ],
          "name": "stdout"
        }
      ]
    },
    {
      "cell_type": "markdown",
      "metadata": {
        "id": "nuWFNPqwX1lZ",
        "colab_type": "text"
      },
      "source": [
        "Ahora vamos a aplicar una función a todos los elementos de la lista original. Vamos a hallar el valor absoluto de todos los números en la lista original."
      ]
    },
    {
      "cell_type": "code",
      "metadata": {
        "id": "zw-ZsziNX0SI",
        "colab_type": "code",
        "outputId": "04cd3046-fa9b-4db1-cbde-171395c5039d",
        "colab": {
          "base_uri": "https://localhost:8080/",
          "height": 34
        }
      },
      "source": [
        "valAbs = [abs(x) for x in original]\n",
        "print(valAbs)"
      ],
      "execution_count": 0,
      "outputs": [
        {
          "output_type": "stream",
          "text": [
            "[3, 2, 1, 0, 1, 2, 3]\n"
          ],
          "name": "stdout"
        }
      ]
    },
    {
      "cell_type": "markdown",
      "metadata": {
        "id": "k1Lo5wXJYPPf",
        "colab_type": "text"
      },
      "source": [
        "###Tuplas\n",
        "Una tupla es una lista muy particular, una vez creada **no se puede modificar**. Se denomina a esto que es **inmutable**. Para definir una tupla se hace el mismo procedimiento que una lista, con la única diferencia que se usan corchetes **circulares** y no cuadrados."
      ]
    },
    {
      "cell_type": "code",
      "metadata": {
        "id": "cXmowifJYm1g",
        "colab_type": "code",
        "outputId": "01af8e99-d15d-40e5-b564-d6cd61ff941b",
        "colab": {
          "base_uri": "https://localhost:8080/",
          "height": 34
        }
      },
      "source": [
        "tupla = (\"a\", \"b\", \"c\", \"d\")\n",
        "print(tupla)"
      ],
      "execution_count": 0,
      "outputs": [
        {
          "output_type": "stream",
          "text": [
            "('a', 'b', 'c', 'd')\n"
          ],
          "name": "stdout"
        }
      ]
    },
    {
      "cell_type": "markdown",
      "metadata": {
        "id": "h6GHsjwMYvE9",
        "colab_type": "text"
      },
      "source": [
        "Para acceder al contenido se usan los índices o rango de índices:"
      ]
    },
    {
      "cell_type": "code",
      "metadata": {
        "id": "-pRG85EEYxlT",
        "colab_type": "code",
        "outputId": "962e9df0-d2e4-466c-f24c-2b25caf0ed3d",
        "colab": {
          "base_uri": "https://localhost:8080/",
          "height": 52
        }
      },
      "source": [
        "print(tupla[0])\n",
        "print(tupla[1:3])"
      ],
      "execution_count": 0,
      "outputs": [
        {
          "output_type": "stream",
          "text": [
            "a\n",
            "('b', 'c')\n"
          ],
          "name": "stdout"
        }
      ]
    },
    {
      "cell_type": "markdown",
      "metadata": {
        "id": "6eSdXapGY8s0",
        "colab_type": "text"
      },
      "source": [
        "Dentro de las particularidades cabe mencionar:\n",
        "*  Al extraer una porción de una tupla se obtiene otra tupla.\n",
        "*  Las tuplas no tienen métodos. Ningún método explicado anteriormente puede usarse con este tipo de datos.\n",
        "*  El hecho de no poder modificarse implica también no poder añadir más elementos, ni eliminarlos una vez definidas.\n",
        "*  No es posible buscar elementos en una tupla.\n",
        "\n",
        "Utilidades\n",
        "*  Son más rápidas que la listas. Si necesita un conjunto constante de valores y lo único que va a hacer es recórrelo, entonces use este tipo de datos.\n",
        "*  Las tuplas se pueden usar como claves de un diccionario, las listas no.\n",
        "*  Aunque las tuplas son inmutables, pueden contener elementos mutables. Por ejemplo:\n"
      ]
    },
    {
      "cell_type": "code",
      "metadata": {
        "id": "XwK163DjZVer",
        "colab_type": "code",
        "outputId": "6a8bd677-bf3e-430c-b237-a1c7f45c2c80",
        "colab": {
          "base_uri": "https://localhost:8080/",
          "height": 34
        }
      },
      "source": [
        "v = ([1,2,3],[4,5,6])\n",
        "print(v)"
      ],
      "execution_count": 0,
      "outputs": [
        {
          "output_type": "stream",
          "text": [
            "([1, 2, 3], [4, 5, 6])\n"
          ],
          "name": "stdout"
        }
      ]
    },
    {
      "cell_type": "code",
      "metadata": {
        "id": "qc3e89khZapG",
        "colab_type": "code",
        "outputId": "3eea6c01-9d23-481c-924e-ae295573d074",
        "colab": {
          "base_uri": "https://localhost:8080/",
          "height": 34
        }
      },
      "source": [
        "v[0].append(4)\n",
        "print(v)"
      ],
      "execution_count": 0,
      "outputs": [
        {
          "output_type": "stream",
          "text": [
            "([1, 2, 3, 4], [4, 5, 6])\n"
          ],
          "name": "stdout"
        }
      ]
    },
    {
      "cell_type": "markdown",
      "metadata": {
        "id": "2D-5Ppijckjq",
        "colab_type": "text"
      },
      "source": [
        "###Conjuntos\n",
        "Es una colección no ordenada y sin elementos repetidos. Su uso radica en la verificación de pertenencia y la eliminación de entradas duplicadas. Soportan operaciones matemáticas como la unión, intersección, diferencia y diferencia simétrica. Por ejemplo, hagamos el conjunto de los elementos de un mercado, pero ojo, no se deben repetir."
      ]
    },
    {
      "cell_type": "code",
      "metadata": {
        "id": "Dbb39U4tdCIg",
        "colab_type": "code",
        "outputId": "e8e0870d-440a-4a1d-8068-0ab8eb1f51ef",
        "colab": {
          "base_uri": "https://localhost:8080/",
          "height": 34
        }
      },
      "source": [
        "mercado = {'Arroz','Aceite','Fruta','Verdura','Huevos','Arroz','Fruta'}\n",
        "print(mercado)"
      ],
      "execution_count": 0,
      "outputs": [
        {
          "output_type": "stream",
          "text": [
            "{'Huevos', 'Verdura', 'Fruta', 'Aceite', 'Arroz'}\n"
          ],
          "name": "stdout"
        }
      ]
    },
    {
      "cell_type": "code",
      "metadata": {
        "id": "N9L_pAFmdRIU",
        "colab_type": "code",
        "outputId": "96ebf598-fed5-4a38-d0ab-2d17a3f02a84",
        "colab": {
          "base_uri": "https://localhost:8080/",
          "height": 52
        }
      },
      "source": [
        "print('Verdura' in mercado)\n",
        "print('Huevo' in mercado)"
      ],
      "execution_count": 0,
      "outputs": [
        {
          "output_type": "stream",
          "text": [
            "True\n",
            "False\n"
          ],
          "name": "stdout"
        }
      ]
    },
    {
      "cell_type": "markdown",
      "metadata": {
        "id": "OSwuuJHEdhpf",
        "colab_type": "text"
      },
      "source": [
        "Existe otra forma de crear conjuntos. Se verá a continuación."
      ]
    },
    {
      "cell_type": "code",
      "metadata": {
        "id": "S-L09HJWdmCw",
        "colab_type": "code",
        "outputId": "11019812-55b6-42b2-f1e3-64dfe665bb53",
        "colab": {
          "base_uri": "https://localhost:8080/",
          "height": 52
        }
      },
      "source": [
        "a = set('Casa')\n",
        "b = set('Manzana')\n",
        "print(a)\n",
        "print(b)"
      ],
      "execution_count": 0,
      "outputs": [
        {
          "output_type": "stream",
          "text": [
            "{'C', 's', 'a'}\n",
            "{'a', 'z', 'M', 'n'}\n"
          ],
          "name": "stdout"
        }
      ]
    },
    {
      "cell_type": "markdown",
      "metadata": {
        "id": "yxSSgk5Pd4Il",
        "colab_type": "text"
      },
      "source": [
        "Ahora bien, quiero saber solo las letras del conjunto a que no estén en b."
      ]
    },
    {
      "cell_type": "code",
      "metadata": {
        "id": "18polSB2d_15",
        "colab_type": "code",
        "outputId": "00dc8c8c-eba9-492e-d765-24c4650a8e1d",
        "colab": {
          "base_uri": "https://localhost:8080/",
          "height": 34
        }
      },
      "source": [
        "print(a-b)"
      ],
      "execution_count": 0,
      "outputs": [
        {
          "output_type": "stream",
          "text": [
            "{'C', 's'}\n"
          ],
          "name": "stdout"
        }
      ]
    },
    {
      "cell_type": "markdown",
      "metadata": {
        "id": "JW2ti1EHeQru",
        "colab_type": "text"
      },
      "source": [
        "y las que están en a, o en b, o en ambas"
      ]
    },
    {
      "cell_type": "code",
      "metadata": {
        "id": "bTJMOfPueU1a",
        "colab_type": "code",
        "outputId": "7cbf142c-0c77-4288-a555-45d130f3bb21",
        "colab": {
          "base_uri": "https://localhost:8080/",
          "height": 34
        }
      },
      "source": [
        "print(a|b)"
      ],
      "execution_count": 0,
      "outputs": [
        {
          "output_type": "stream",
          "text": [
            "{'z', 'a', 'M', 'n', 'C', 's'}\n"
          ],
          "name": "stdout"
        }
      ]
    },
    {
      "cell_type": "markdown",
      "metadata": {
        "id": "rgyxTTICel8z",
        "colab_type": "text"
      },
      "source": [
        "Y las que están en a y en b"
      ]
    },
    {
      "cell_type": "code",
      "metadata": {
        "id": "qkez5I3-eo6G",
        "colab_type": "code",
        "outputId": "dc4c251e-2bbb-4729-b52c-fd2f3eddf951",
        "colab": {
          "base_uri": "https://localhost:8080/",
          "height": 34
        }
      },
      "source": [
        "print(a & b)"
      ],
      "execution_count": 0,
      "outputs": [
        {
          "output_type": "stream",
          "text": [
            "{'a'}\n"
          ],
          "name": "stdout"
        }
      ]
    },
    {
      "cell_type": "markdown",
      "metadata": {
        "id": "xI1kjKw4euK8",
        "colab_type": "text"
      },
      "source": [
        "Y las que están en a o b, pero no en ambos"
      ]
    },
    {
      "cell_type": "code",
      "metadata": {
        "id": "1a1v6VgNe4sK",
        "colab_type": "code",
        "outputId": "17289ccc-1d2d-4c0b-9c93-b60bbb00ceff",
        "colab": {
          "base_uri": "https://localhost:8080/",
          "height": 34
        }
      },
      "source": [
        "print(a ^ b)"
      ],
      "execution_count": 0,
      "outputs": [
        {
          "output_type": "stream",
          "text": [
            "{'z', 'M', 'C', 'n', 's'}\n"
          ],
          "name": "stdout"
        }
      ]
    },
    {
      "cell_type": "markdown",
      "metadata": {
        "id": "s7n4Js1CfEi7",
        "colab_type": "text"
      },
      "source": [
        "Una última característica es que también hay soporte de listas por comprensión en este tipo de datos, es decir, conjuntos por comprensión. Siguiendo con los conjuntos a y b, es posible saber:"
      ]
    },
    {
      "cell_type": "code",
      "metadata": {
        "id": "5F_xg-oxfXRG",
        "colab_type": "code",
        "outputId": "c3e33f1b-3a6b-471a-aa55-2cd58ba9db0e",
        "colab": {
          "base_uri": "https://localhost:8080/",
          "height": 34
        }
      },
      "source": [
        "c = {x for x in a if x !='a'}\n",
        "print(c)"
      ],
      "execution_count": 0,
      "outputs": [
        {
          "output_type": "stream",
          "text": [
            "{'C', 's'}\n"
          ],
          "name": "stdout"
        }
      ]
    },
    {
      "cell_type": "markdown",
      "metadata": {
        "id": "7-4RKoMhf_H3",
        "colab_type": "text"
      },
      "source": [
        "En el próximo ejemplo, usaremos una cadena ubicada en la misma declaración del conjunto por compresión."
      ]
    },
    {
      "cell_type": "code",
      "metadata": {
        "id": "4i0cuEGZgHm2",
        "colab_type": "code",
        "outputId": "f446f8ee-bc09-46c7-bfe5-4b7da9060bf0",
        "colab": {
          "base_uri": "https://localhost:8080/",
          "height": 34
        }
      },
      "source": [
        "d = {x for x in 'Anita' if x != 'A' and x !='a'}\n",
        "print(d)"
      ],
      "execution_count": 0,
      "outputs": [
        {
          "output_type": "stream",
          "text": [
            "{'t', 'i', 'n'}\n"
          ],
          "name": "stdout"
        }
      ]
    },
    {
      "cell_type": "markdown",
      "metadata": {
        "id": "HORH4yuTgav-",
        "colab_type": "text"
      },
      "source": [
        "###Diccionarios\n",
        "Es un tipo de dato integrado el cual se denomina en otros lenguajes como “memorias asociativas” o “arreglos asociativos” y es que, a diferencia de las secuencias, que se indexan mediante un rango numérico, los diccionarios se indexan con claves, que pueden ser cualquier tipo inmutable.\n",
        "\n",
        "Las tuplas se pueden usar como claves si solo tienen cadenas, números o tuplas. Es apropiado pensar en un diccionario como un conjunto no ordenado de pares clave: valor, con el requerimiento de que las claves sean únicas. Un par de llaves crean un diccionario vacío. Colocar una lista de pares clave: valor separados por comas entre las llaves añade pares clave: valor iniciales al diccionario y esta es de igual forma la salida de un diccionario."
      ]
    },
    {
      "cell_type": "code",
      "metadata": {
        "id": "vid3svKvgobr",
        "colab_type": "code",
        "outputId": "5145af0a-db8f-4baf-c89c-3b3f6590976f",
        "colab": {
          "base_uri": "https://localhost:8080/",
          "height": 34
        }
      },
      "source": [
        "dic = {}\n",
        "dic[\"uno\"] = 1\n",
        "dic[\"dos\"] = 2\n",
        "print(dic)"
      ],
      "execution_count": 0,
      "outputs": [
        {
          "output_type": "stream",
          "text": [
            "{'uno': 1, 'dos': 2}\n"
          ],
          "name": "stdout"
        }
      ]
    },
    {
      "cell_type": "code",
      "metadata": {
        "id": "HKjJ2WMvg8lw",
        "colab_type": "code",
        "outputId": "a00bcd38-ad57-4a83-9253-d0f04c2facb0",
        "colab": {
          "base_uri": "https://localhost:8080/",
          "height": 51
        }
      },
      "source": [
        "print(dic[\"uno\"])\n",
        "dic[\"cuatro\"] = -5\n",
        "print(dic)"
      ],
      "execution_count": 0,
      "outputs": [
        {
          "output_type": "stream",
          "text": [
            "1\n",
            "{'uno': 1, 'dos': 2, 'cuatro': -5}\n"
          ],
          "name": "stdout"
        }
      ]
    },
    {
      "cell_type": "markdown",
      "metadata": {
        "id": "clTlS-3shUch",
        "colab_type": "text"
      },
      "source": [
        "Las operaciones principales sobre un diccionario son guardar un valor con una clave y extraer ese valor dada la clave. Es posible borrar un par clave: valor con la función ```del()```. Si se usa una clave que ya está en uso para guardar un valor nuevo, el valor asociado anteriormente se pierde."
      ]
    },
    {
      "cell_type": "code",
      "metadata": {
        "id": "Dun2iRA4hqfH",
        "colab_type": "code",
        "outputId": "59c51871-6731-43d9-d1c2-f0c4a02d5663",
        "colab": {
          "base_uri": "https://localhost:8080/",
          "height": 34
        }
      },
      "source": [
        "contactos = {\"Juan\":8259463,\"Andres\":3240219, \"Diana\":8312565}\n",
        "contactos[\"María\"] = 4938238\n",
        "print(contactos)"
      ],
      "execution_count": 0,
      "outputs": [
        {
          "output_type": "stream",
          "text": [
            "{'Juan': 8259463, 'Andres': 3240219, 'Diana': 8312565, 'María': 4938238}\n"
          ],
          "name": "stdout"
        }
      ]
    },
    {
      "cell_type": "code",
      "metadata": {
        "id": "E_tO1z_siWbb",
        "colab_type": "code",
        "outputId": "e18308d4-e1cf-4232-fd8c-782c1caa48fe",
        "colab": {
          "base_uri": "https://localhost:8080/",
          "height": 34
        }
      },
      "source": [
        "del contactos[\"Juan\"]\n",
        "contactos[\"Dani\"] = 312\n",
        "print(contactos)"
      ],
      "execution_count": 0,
      "outputs": [
        {
          "output_type": "stream",
          "text": [
            "{'Andres': 3240219, 'Diana': 8312565, 'María': 4938238, 'Dani': 312}\n"
          ],
          "name": "stdout"
        }
      ]
    },
    {
      "cell_type": "code",
      "metadata": {
        "id": "DBZjWGkkiszi",
        "colab_type": "code",
        "outputId": "49f15fd7-62f2-4227-bd0d-c227e8661031",
        "colab": {
          "base_uri": "https://localhost:8080/",
          "height": 34
        }
      },
      "source": [
        "#Para listar las claves\n",
        "list(contactos.keys())"
      ],
      "execution_count": 0,
      "outputs": [
        {
          "output_type": "execute_result",
          "data": {
            "text/plain": [
              "['Andres', 'Diana', 'María', 'Dani']"
            ]
          },
          "metadata": {
            "tags": []
          },
          "execution_count": 91
        }
      ]
    },
    {
      "cell_type": "code",
      "metadata": {
        "id": "8fN4SR27izaP",
        "colab_type": "code",
        "outputId": "14da95f3-ba64-4b7c-af08-996d0783c13d",
        "colab": {
          "base_uri": "https://localhost:8080/",
          "height": 34
        }
      },
      "source": [
        "#Para listas las claves ordenadas\n",
        "sorted(contactos.keys())"
      ],
      "execution_count": 0,
      "outputs": [
        {
          "output_type": "execute_result",
          "data": {
            "text/plain": [
              "['Andres', 'Dani', 'Diana', 'María']"
            ]
          },
          "metadata": {
            "tags": []
          },
          "execution_count": 93
        }
      ]
    },
    {
      "cell_type": "code",
      "metadata": {
        "id": "SHN4BKnAi9Yg",
        "colab_type": "code",
        "outputId": "1ffedc1d-5527-4c8f-8b0e-e6c5fb4b0a5c",
        "colab": {
          "base_uri": "https://localhost:8080/",
          "height": 52
        }
      },
      "source": [
        "#Vamos a verificar claves dentro del diccionario\n",
        "print('Diana' in contactos)\n",
        "print('Andrea' in contactos)"
      ],
      "execution_count": 0,
      "outputs": [
        {
          "output_type": "stream",
          "text": [
            "True\n",
            "False\n"
          ],
          "name": "stdout"
        }
      ]
    },
    {
      "cell_type": "markdown",
      "metadata": {
        "id": "BhyZq5PljKf8",
        "colab_type": "text"
      },
      "source": [
        "Es posible también ejecutar diccionarios por comprensión, para la creación de diccionarios desde expresiones arbitrarias de clave y valor. En el siguiente ejemplo se crea un diccionario cuyas claves son los elementos de la 3-pla (2, 4, 6) y los valores son los dobles de cada uno."
      ]
    },
    {
      "cell_type": "code",
      "metadata": {
        "id": "wd3zCIXxjNtY",
        "colab_type": "code",
        "outputId": "f63d1e3c-75e7-4211-fe9a-50a4452519ae",
        "colab": {
          "base_uri": "https://localhost:8080/",
          "height": 34
        }
      },
      "source": [
        "dicPotencia = {x: x ** 2 for x in (2, 4, 6)}\n",
        "print(dicPotencia)"
      ],
      "execution_count": 0,
      "outputs": [
        {
          "output_type": "stream",
          "text": [
            "{2: 4, 4: 16, 6: 36}\n"
          ],
          "name": "stdout"
        }
      ]
    },
    {
      "cell_type": "markdown",
      "metadata": {
        "id": "WJB50eRHjqaW",
        "colab_type": "text"
      },
      "source": [
        "Se puede usar un constructor para crear un diccionario directamente desde secuencias de pares clave-valor."
      ]
    },
    {
      "cell_type": "code",
      "metadata": {
        "id": "Y3zuBv4LjpeY",
        "colab_type": "code",
        "outputId": "859ebea7-f958-444b-9bca-76bd3e938bb8",
        "colab": {
          "base_uri": "https://localhost:8080/",
          "height": 34
        }
      },
      "source": [
        "miDiccionario = dict([('a',1), ('b',2),('c',3)])\n",
        "print(miDiccionario)"
      ],
      "execution_count": 0,
      "outputs": [
        {
          "output_type": "stream",
          "text": [
            "{'a': 1, 'b': 2, 'c': 3}\n"
          ],
          "name": "stdout"
        }
      ]
    },
    {
      "cell_type": "markdown",
      "metadata": {
        "id": "2a4YVb9Kj4br",
        "colab_type": "text"
      },
      "source": [
        "Se pueden conocer los valores de cada clave y la longitud del diccionario así:"
      ]
    },
    {
      "cell_type": "code",
      "metadata": {
        "id": "AwNiTSTOj9p8",
        "colab_type": "code",
        "outputId": "bddc93cb-9d70-402b-d5d4-3c93d88f779f",
        "colab": {
          "base_uri": "https://localhost:8080/",
          "height": 52
        }
      },
      "source": [
        "print(len(miDiccionario))\n",
        "print(miDiccionario.values())\n"
      ],
      "execution_count": 0,
      "outputs": [
        {
          "output_type": "stream",
          "text": [
            "3\n",
            "dict_values([1, 2, 3])\n"
          ],
          "name": "stdout"
        }
      ]
    },
    {
      "cell_type": "markdown",
      "metadata": {
        "id": "SNvlIUnkkL2V",
        "colab_type": "text"
      },
      "source": [
        "Para poder realizar una copia de un diccionario sin modificar el original se usa le método ```copy()``` el cual usa un alias, que permite realizar modificaciones a la copia, y de querer hacerlo a la original, basta con hacer una asignación."
      ]
    },
    {
      "cell_type": "code",
      "metadata": {
        "id": "oE6b8O5Zkaos",
        "colab_type": "code",
        "outputId": "6f3bb35d-a58d-4fb0-ed0b-ff5d57bd5ffb",
        "colab": {
          "base_uri": "https://localhost:8080/",
          "height": 52
        }
      },
      "source": [
        "num = {\"a\": 1, \"b\":2, \"c\":3, \"d\":4, \"e\":5}\n",
        "alias = num\n",
        "copia = num.copy()\n",
        "alias[\"a\"] = 6\n",
        "print(num)\n",
        "copia[\"a\"] = 7\n",
        "print(copia)"
      ],
      "execution_count": 0,
      "outputs": [
        {
          "output_type": "stream",
          "text": [
            "{'a': 6, 'b': 2, 'c': 3, 'd': 4, 'e': 5}\n",
            "{'a': 7, 'b': 2, 'c': 3, 'd': 4, 'e': 5}\n"
          ],
          "name": "stdout"
        }
      ]
    },
    {
      "cell_type": "markdown",
      "metadata": {
        "id": "cdCukKhlvF96",
        "colab_type": "text"
      },
      "source": [
        "## Excepciones\n",
        "\n",
        "---\n",
        "\n"
      ]
    },
    {
      "cell_type": "markdown",
      "metadata": {
        "id": "0hx5-IUjvjtS",
        "colab_type": "text"
      },
      "source": [
        "Un programa Python termina tan pronto como encuentra un error. En Python, un error puede ser un error de sintaxis o una excepción. Aprenderemos a plantear excepciones y hacer afirmaciones. Luego, terminaremos con una demostración del bloque try y except."
      ]
    },
    {
      "cell_type": "markdown",
      "metadata": {
        "id": "zXWpINWcv52G",
        "colab_type": "text"
      },
      "source": [
        "### Excepciones vs Errores de Sintaxis\n",
        "\n",
        "\n",
        "\n",
        "Observemos el siguiente código y tratemos de ejecutarlo"
      ]
    },
    {
      "cell_type": "code",
      "metadata": {
        "id": "s-ymIw4CvKqH",
        "colab_type": "code",
        "colab": {
          "base_uri": "https://localhost:8080/",
          "height": 129
        },
        "outputId": "37a9aea7-8036-4872-f48f-576e4ac9e8bb"
      },
      "source": [
        "print( 0 / 0 ))\n"
      ],
      "execution_count": 1,
      "outputs": [
        {
          "output_type": "error",
          "ename": "SyntaxError",
          "evalue": "ignored",
          "traceback": [
            "\u001b[0;36m  File \u001b[0;32m\"<ipython-input-1-c3931f671051>\"\u001b[0;36m, line \u001b[0;32m1\u001b[0m\n\u001b[0;31m    print( 0 / 0 ))\u001b[0m\n\u001b[0m                  ^\u001b[0m\n\u001b[0;31mSyntaxError\u001b[0m\u001b[0;31m:\u001b[0m invalid syntax\n"
          ]
        }
      ]
    },
    {
      "cell_type": "markdown",
      "metadata": {
        "id": "UXrgrI4fwuPX",
        "colab_type": "text"
      },
      "source": [
        "La flecha nos indica que tenemos un error de sintaxis justo en ese punto, removemos el parentesis que sobra y volvemos a ejecutar"
      ]
    },
    {
      "cell_type": "code",
      "metadata": {
        "id": "PVgiHUJswKJh",
        "colab_type": "code",
        "colab": {
          "base_uri": "https://localhost:8080/",
          "height": 163
        },
        "outputId": "529d1189-0452-4fa1-ef69-2d2fd6c9899d"
      },
      "source": [
        "print( 0 / 0 )"
      ],
      "execution_count": 2,
      "outputs": [
        {
          "output_type": "error",
          "ename": "ZeroDivisionError",
          "evalue": "ignored",
          "traceback": [
            "\u001b[0;31m---------------------------------------------------------------------------\u001b[0m",
            "\u001b[0;31mZeroDivisionError\u001b[0m                         Traceback (most recent call last)",
            "\u001b[0;32m<ipython-input-2-f5008b880c58>\u001b[0m in \u001b[0;36m<module>\u001b[0;34m()\u001b[0m\n\u001b[0;32m----> 1\u001b[0;31m \u001b[0mprint\u001b[0m\u001b[0;34m(\u001b[0m \u001b[0;36m0\u001b[0m \u001b[0;34m/\u001b[0m \u001b[0;36m0\u001b[0m \u001b[0;34m)\u001b[0m\u001b[0;34m\u001b[0m\u001b[0;34m\u001b[0m\u001b[0m\n\u001b[0m",
            "\u001b[0;31mZeroDivisionError\u001b[0m: division by zero"
          ]
        }
      ]
    },
    {
      "cell_type": "markdown",
      "metadata": {
        "id": "61k8fBcHw1Hf",
        "colab_type": "text"
      },
      "source": [
        "Esta vez, nos hemos topado con un error de excepción. Este tipo de error ocurre cuando el código escrito correctamente resulta en un error. La última línea del mensaje indicaba con qué tipo de error de excepción se encontró. \n",
        "\n",
        "Como se observa , Python nos notifica que tipo de excepción ocurrió. En este caso, era un ZeroDivisionError. Python viene con varias excepciones integradas, así como la posibilidad de crear excepciones autodefinidas\n",
        "\n",
        "\n",
        "*OJO :* https://docs.python.org/3/library/exceptions.html"
      ]
    },
    {
      "cell_type": "markdown",
      "metadata": {
        "id": "WGPbE2vZyWkG",
        "colab_type": "text"
      },
      "source": [
        "### Lanzando una excepción"
      ]
    },
    {
      "cell_type": "markdown",
      "metadata": {
        "id": "B6DV1PnRycmP",
        "colab_type": "text"
      },
      "source": [
        "Podemos usar \n",
        "\n",
        "```\n",
        " raise\n",
        "```\n",
        " para lanzar una excepción si ocurre una condición. La declaración se puede complementar con una excepción personalizada. Si desea emitir un error cuando se produce una determinada condición utilizando el aumento, puede hacerlo de la siguiente manera:"
      ]
    },
    {
      "cell_type": "code",
      "metadata": {
        "id": "KXIF2GnTwwOM",
        "colab_type": "code",
        "colab": {
          "base_uri": "https://localhost:8080/",
          "height": 197
        },
        "outputId": "0b301bf8-8e83-49fd-b555-82bea30dffbc"
      },
      "source": [
        "x = 10\n",
        "if x > 5:\n",
        "    raise Exception('x no deberia exceder a 5. El valor de x fue: {}'.format(x))"
      ],
      "execution_count": 3,
      "outputs": [
        {
          "output_type": "error",
          "ename": "Exception",
          "evalue": "ignored",
          "traceback": [
            "\u001b[0;31m---------------------------------------------------------------------------\u001b[0m",
            "\u001b[0;31mException\u001b[0m                                 Traceback (most recent call last)",
            "\u001b[0;32m<ipython-input-3-d263d0266823>\u001b[0m in \u001b[0;36m<module>\u001b[0;34m()\u001b[0m\n\u001b[1;32m      1\u001b[0m \u001b[0mx\u001b[0m \u001b[0;34m=\u001b[0m \u001b[0;36m10\u001b[0m\u001b[0;34m\u001b[0m\u001b[0;34m\u001b[0m\u001b[0m\n\u001b[1;32m      2\u001b[0m \u001b[0;32mif\u001b[0m \u001b[0mx\u001b[0m \u001b[0;34m>\u001b[0m \u001b[0;36m5\u001b[0m\u001b[0;34m:\u001b[0m\u001b[0;34m\u001b[0m\u001b[0;34m\u001b[0m\u001b[0m\n\u001b[0;32m----> 3\u001b[0;31m     \u001b[0;32mraise\u001b[0m \u001b[0mException\u001b[0m\u001b[0;34m(\u001b[0m\u001b[0;34m'x no deberia exceder a 5. El valor de x fue: {}'\u001b[0m\u001b[0;34m.\u001b[0m\u001b[0mformat\u001b[0m\u001b[0;34m(\u001b[0m\u001b[0mx\u001b[0m\u001b[0;34m)\u001b[0m\u001b[0;34m)\u001b[0m\u001b[0;34m\u001b[0m\u001b[0;34m\u001b[0m\u001b[0m\n\u001b[0m",
            "\u001b[0;31mException\u001b[0m: x no deberia exceder a 5. El valor de x fue: 10"
          ]
        }
      ]
    },
    {
      "cell_type": "markdown",
      "metadata": {
        "id": "QWtXP-Lq3bOR",
        "colab_type": "text"
      },
      "source": [
        "El programa se detiene y muestra nuestra excepción a la pantalla, ofreciendo pistas sobre lo que salió mal."
      ]
    },
    {
      "cell_type": "markdown",
      "metadata": {
        "id": "aiKh6SLM378r",
        "colab_type": "text"
      },
      "source": [
        "### AssertionException\n",
        "En lugar de esperar a que un programa se bloquee a mitad de camino, también puede comenzar haciendo una afirmación en Python. Afirmamos que se cumple cierta condición. Si esta condición resulta ser verdadera, ¡entonces eso es excelente! El programa puede continuar. Si la condición resulta ser falsa, puede hacer que el programa lance una excepción AssertionError. Veamos el siguiente código de ejemplo"
      ]
    },
    {
      "cell_type": "code",
      "metadata": {
        "id": "KfWkYXWH3TS6",
        "colab_type": "code",
        "colab": {
          "base_uri": "https://localhost:8080/",
          "height": 180
        },
        "outputId": "2cb4e385-167b-4d9f-f7ba-8cb94d6cda4b"
      },
      "source": [
        "import sys\n",
        "assert ('windows' in sys.platform), \"Este código corre solamente en Windows.\""
      ],
      "execution_count": 6,
      "outputs": [
        {
          "output_type": "error",
          "ename": "AssertionError",
          "evalue": "ignored",
          "traceback": [
            "\u001b[0;31m---------------------------------------------------------------------------\u001b[0m",
            "\u001b[0;31mAssertionError\u001b[0m                            Traceback (most recent call last)",
            "\u001b[0;32m<ipython-input-6-34d8e9f88ee8>\u001b[0m in \u001b[0;36m<module>\u001b[0;34m()\u001b[0m\n\u001b[1;32m      1\u001b[0m \u001b[0;32mimport\u001b[0m \u001b[0msys\u001b[0m\u001b[0;34m\u001b[0m\u001b[0;34m\u001b[0m\u001b[0m\n\u001b[0;32m----> 2\u001b[0;31m \u001b[0;32massert\u001b[0m \u001b[0;34m(\u001b[0m\u001b[0;34m'windows'\u001b[0m \u001b[0;32min\u001b[0m \u001b[0msys\u001b[0m\u001b[0;34m.\u001b[0m\u001b[0mplatform\u001b[0m\u001b[0;34m)\u001b[0m\u001b[0;34m,\u001b[0m \u001b[0;34m\"Este código corre solamente en Windows.\"\u001b[0m\u001b[0;34m\u001b[0m\u001b[0;34m\u001b[0m\u001b[0m\n\u001b[0m",
            "\u001b[0;31mAssertionError\u001b[0m: Este código corre solamente en Windows."
          ]
        }
      ]
    },
    {
      "cell_type": "markdown",
      "metadata": {
        "id": "IajS5o9e4jKv",
        "colab_type": "text"
      },
      "source": [
        "### Manejo de excepciones : El bloque try-catch\n",
        "\n",
        "![Bloque Try-Catch](https://files.realpython.com/media/try_except.c94eabed2c59.png)"
      ]
    },
    {
      "cell_type": "markdown",
      "metadata": {
        "id": "z3l4NhEk5fhI",
        "colab_type": "text"
      },
      "source": [
        "Como se vio anteriormente, cuando el código escrito correctamente resulta en error, Python generará un error de excepción. Este error de excepción colapsará el programa si no se maneja. La cláusula de excepción determina cómo responde su programa a las excepciones.\n",
        "\n",
        "La siguiente función puede ayudarlo a comprender el bloque de prueba y excepción:"
      ]
    },
    {
      "cell_type": "code",
      "metadata": {
        "id": "r-p9js9P4R1f",
        "colab_type": "code",
        "colab": {}
      },
      "source": [
        "def windows_interaccion():\n",
        "    assert ('windows' in sys.platform), \"Este código corre solamente en Windows.\"\n",
        "    print('Haciendo algo.')"
      ],
      "execution_count": 0,
      "outputs": []
    },
    {
      "cell_type": "code",
      "metadata": {
        "id": "52VEZM8I5v9L",
        "colab_type": "code",
        "colab": {}
      },
      "source": [
        "try:\n",
        "    windows_interaccion()\n",
        "except:\n",
        "    pass"
      ],
      "execution_count": 0,
      "outputs": []
    },
    {
      "cell_type": "markdown",
      "metadata": {
        "id": "z6XnRMHI6eKL",
        "colab_type": "text"
      },
      "source": [
        "Observamos que no pasó nada.  Lo bueno aquí es que el programa no se bloqueó. Pero sería bueno ver si ocurrió algún tipo de excepción cada vez que ejecutó su código. Para este fin, puede cambiar el *pass* a algo que genere un mensaje informativo, como:"
      ]
    },
    {
      "cell_type": "code",
      "metadata": {
        "id": "RJyxgP4t6C5K",
        "colab_type": "code",
        "colab": {
          "base_uri": "https://localhost:8080/",
          "height": 34
        },
        "outputId": "4707dae4-512a-4f40-f719-f301804dde87"
      },
      "source": [
        "try:\n",
        "    windows_interaccion()\n",
        "except:\n",
        "    print(\"La funcion de validar si está en windows no funciono :(\")"
      ],
      "execution_count": 14,
      "outputs": [
        {
          "output_type": "stream",
          "text": [
            "La funcion de validar si está en windows no funciono :(\n"
          ],
          "name": "stdout"
        }
      ]
    },
    {
      "cell_type": "markdown",
      "metadata": {
        "id": "12dm7__a7GkQ",
        "colab_type": "text"
      },
      "source": [
        "Cuando se produce una excepción en un programa que ejecuta esta función, el programa continuará y le informará sobre el hecho de que la llamada a la función no fue exitosa.\n",
        "\n",
        "Lo que no logramos ver fue el tipo de error que se produjo como resultado de la llamada a la función. Para ver exactamente qué salió mal, deberiamos detectar el error que arrojó la función.\n",
        "\n",
        "El siguiente código es un ejemplo en el que captura el  AssertionError y envía ese mensaje a la pantalla:"
      ]
    },
    {
      "cell_type": "code",
      "metadata": {
        "id": "K9lfkpXh6vdL",
        "colab_type": "code",
        "colab": {
          "base_uri": "https://localhost:8080/",
          "height": 51
        },
        "outputId": "66f7750d-7acf-40e3-a684-9ec684bd49fe"
      },
      "source": [
        "try:\n",
        "    windows_interaccion()\n",
        "except AssertionError as error:\n",
        "    print(error)\n",
        "    print(\"La funcion de validar si está en windows no funciono :(\")"
      ],
      "execution_count": 15,
      "outputs": [
        {
          "output_type": "stream",
          "text": [
            "Este código corre solamente en Windows.\n",
            "La funcion de validar si está en windows no funciono :(\n"
          ],
          "name": "stdout"
        }
      ]
    },
    {
      "cell_type": "markdown",
      "metadata": {
        "id": "NyiRhvsh7vd2",
        "colab_type": "text"
      },
      "source": [
        "**Resumen**\n",
        ".\n",
        "\n",
        "\n",
        "Evite el uso de cláusulas desnudas, excepto.\n",
        "\n",
        "\n",
        "*   Se ejecuta una cláusula try hasta el punto donde se encuentra la primera excepción\n",
        "*   Dentro de la cláusula except, o el controlador de excepciones, usted determina cómo responde el programa a la excepción.\n",
        "*   Puede anticipar múltiples excepciones y diferenciar cómo el programa debe responder a ellas.\n",
        "*   Evite el uso de cláusulas except desnudas\n",
        "\n"
      ]
    },
    {
      "cell_type": "markdown",
      "metadata": {
        "id": "XrTVMrfV8gqx",
        "colab_type": "text"
      },
      "source": [
        "**Ejemplo**"
      ]
    },
    {
      "cell_type": "code",
      "metadata": {
        "id": "aY7sHOis7VkW",
        "colab_type": "code",
        "colab": {
          "base_uri": "https://localhost:8080/",
          "height": 102
        },
        "outputId": "33e41aa6-0c8c-4a7a-8eb3-d9c6edb9cb63"
      },
      "source": [
        "while True:\n",
        "  try:\n",
        "    x = int(input(\"Please enter a number: \"))\n",
        "    break\n",
        "  except ValueError:\n",
        "    print(\"Oops!  That was no valid number.  Try again...\")"
      ],
      "execution_count": 17,
      "outputs": [
        {
          "output_type": "stream",
          "text": [
            "Please enter a number: g\n",
            "Oops!  That was no valid number.  Try again...\n",
            "Please enter a number: h\n",
            "Oops!  That was no valid number.  Try again...\n",
            "Please enter a number: 6\n"
          ],
          "name": "stdout"
        }
      ]
    },
    {
      "cell_type": "markdown",
      "metadata": {
        "id": "hvxmckfW8o8X",
        "colab_type": "text"
      },
      "source": [
        "## Funciones Lambda\n",
        "\n",
        "---\n",
        "\n"
      ]
    },
    {
      "cell_type": "markdown",
      "metadata": {
        "id": "5Ih18wKt9tgY",
        "colab_type": "text"
      },
      "source": [
        "**¿Qué es una función anónima?**\n",
        "\n",
        "Una función anónima, como su nombre indica es una función sin nombre. ¿Es posible ejecutar una función sin referenciar un nombre? Pues sí, en Python podemos ejecutar una función sin definirla con def. De hecho son similares pero con una diferencia fundamental:\n",
        "\n",
        "\n",
        "\n",
        "> El contenido de una función lambda debe ser una única expresión en lugar de un bloque de acciones.\n",
        "\n"
      ]
    },
    {
      "cell_type": "markdown",
      "metadata": {
        "id": "VO1nFL9F-Sxp",
        "colab_type": "text"
      },
      "source": [
        "**Sintáxis función lambda**\n",
        "\n",
        "\n",
        "\n",
        "```\n",
        "lambda argumento1, argumento2, argumentoN : expresion usando argumentos\n",
        "```\n",
        "\n"
      ]
    },
    {
      "cell_type": "markdown",
      "metadata": {
        "id": "PKdigF0i-GvC",
        "colab_type": "text"
      },
      "source": [
        "Por tanto podríamos decir que, mientras las *funciones anónimas lambda* sirven para realizar funciones simples, las *funciones definidas con def* sirven para manejar tareas más extensas. LAMBDA ES UNA EXPRESIÓN, NO UNA SENTENCIA, debido a esto, son distintas de las funciones declaradas con def, porque el interprete siempre las asocia a un nombre determinado, por el contrario una Lambda simplemente regresa un resultado."
      ]
    },
    {
      "cell_type": "code",
      "metadata": {
        "id": "uIzXhsQB8XD7",
        "colab_type": "code",
        "colab": {}
      },
      "source": [
        "# Ejemplo suma de 3 numeros forma convencional def\n",
        "\n",
        "def func(x,y,z):\n",
        "\treturn x + y + z"
      ],
      "execution_count": 0,
      "outputs": []
    },
    {
      "cell_type": "code",
      "metadata": {
        "id": "JCYeQQZs_0Yp",
        "colab_type": "code",
        "colab": {
          "base_uri": "https://localhost:8080/",
          "height": 34
        },
        "outputId": "9d38f979-5011-4786-b13f-88a40dc119a1"
      },
      "source": [
        "func(2,3,4)"
      ],
      "execution_count": 19,
      "outputs": [
        {
          "output_type": "execute_result",
          "data": {
            "text/plain": [
              "9"
            ]
          },
          "metadata": {
            "tags": []
          },
          "execution_count": 19
        }
      ]
    },
    {
      "cell_type": "markdown",
      "metadata": {
        "id": "o2-mJivJ_3W3",
        "colab_type": "text"
      },
      "source": [
        "Crear una expresión lambda :"
      ]
    },
    {
      "cell_type": "code",
      "metadata": {
        "id": "f0ZR8_ZI_5mm",
        "colab_type": "code",
        "colab": {}
      },
      "source": [
        "f = lambda x, y, z: x + y + z"
      ],
      "execution_count": 0,
      "outputs": []
    },
    {
      "cell_type": "code",
      "metadata": {
        "id": "2PiCO4LS_86C",
        "colab_type": "code",
        "colab": {
          "base_uri": "https://localhost:8080/",
          "height": 34
        },
        "outputId": "633ec1cd-a3bf-4ec5-f89f-5d0d3bed2ac5"
      },
      "source": [
        "f(2, 3, 4)"
      ],
      "execution_count": 21,
      "outputs": [
        {
          "output_type": "execute_result",
          "data": {
            "text/plain": [
              "9"
            ]
          },
          "metadata": {
            "tags": []
          },
          "execution_count": 21
        }
      ]
    },
    {
      "cell_type": "markdown",
      "metadata": {
        "id": "BnAa0Pj281YE",
        "colab_type": "text"
      },
      "source": [
        "# Referencias"
      ]
    },
    {
      "cell_type": "markdown",
      "metadata": {
        "id": "aPu5ZdF284vp",
        "colab_type": "text"
      },
      "source": [
        "\n",
        "\n",
        "1.   Excepciones . Disponible en : https://realpython.com/python-exceptions/ . \n",
        "2.   Funciones lambda : http://conocepython.blogspot.com/2017/08/t2-las-funciones-lambda-elogio-de-la.html , https://platzi.com/tutoriales/1378-python/1575-funcion-lambda/ ,  https://docs.hektorprofe.net/python/funcionalidades-avanzadas/funciones-lambda/\n",
        "\n"
      ]
    },
    {
      "cell_type": "code",
      "metadata": {
        "id": "d3OYKG1k820J",
        "colab_type": "code",
        "colab": {}
      },
      "source": [
        ""
      ],
      "execution_count": 0,
      "outputs": []
    }
  ]
}